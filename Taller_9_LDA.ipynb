{
  "nbformat": 4,
  "nbformat_minor": 0,
  "metadata": {
    "kernelspec": {
      "display_name": "Python 3",
      "language": "python",
      "name": "python3"
    },
    "language_info": {
      "codemirror_mode": {
        "name": "ipython",
        "version": 3
      },
      "file_extension": ".py",
      "mimetype": "text/x-python",
      "name": "python",
      "nbconvert_exporter": "python",
      "pygments_lexer": "ipython3",
      "version": "3.7.4"
    },
    "colab": {
      "name": "Taller 9_LDA.ipynb",
      "provenance": [],
      "toc_visible": true
    }
  },
  "cells": [
    {
      "cell_type": "markdown",
      "metadata": {
        "id": "PFSP3mMJoac5"
      },
      "source": [
        "<img src='https://encrypted-tbn0.gstatic.com/images?q=tbn%3AANd9GcQ-VfNtOyJbsaxu43Kztf_cv1mgBG6ZIQZEVw&usqp=CAU'>\n",
        "\n",
        "# Procesamiento de Lenguaje Natural\n",
        "\n",
        "## Taller #9: Modelado de temas\n",
        "`Fecha de entrega: Mayo 6, 2021. (Antes del inicio de la próxima clase).`\n",
        "\n",
        "`Modo de entrega: Subir link de GitHub al aula virtual.`\n",
        "\n",
        "`Nombre: Maria Paula Silva Fuentes .`\n",
        "`Código: 616202030 .`"
      ]
    },
    {
      "cell_type": "code",
      "metadata": {
        "colab": {
          "base_uri": "https://localhost:8080/"
        },
        "id": "tgxpXXG8pS5Y",
        "outputId": "ca0412f7-c6aa-497e-8390-4b168a83be7e"
      },
      "source": [
        "! pip install pyLDAvis"
      ],
      "execution_count": 1,
      "outputs": [
        {
          "output_type": "stream",
          "text": [
            "Requirement already satisfied: pyLDAvis in /usr/local/lib/python3.7/dist-packages (3.3.1)\n",
            "Requirement already satisfied: jinja2 in /usr/local/lib/python3.7/dist-packages (from pyLDAvis) (2.11.3)\n",
            "Requirement already satisfied: setuptools in /usr/local/lib/python3.7/dist-packages (from pyLDAvis) (56.0.0)\n",
            "Requirement already satisfied: joblib in /usr/local/lib/python3.7/dist-packages (from pyLDAvis) (1.0.1)\n",
            "Requirement already satisfied: funcy in /usr/local/lib/python3.7/dist-packages (from pyLDAvis) (1.15)\n",
            "Requirement already satisfied: future in /usr/local/lib/python3.7/dist-packages (from pyLDAvis) (0.16.0)\n",
            "Requirement already satisfied: numpy>=1.20.0 in /usr/local/lib/python3.7/dist-packages (from pyLDAvis) (1.20.2)\n",
            "Requirement already satisfied: numexpr in /usr/local/lib/python3.7/dist-packages (from pyLDAvis) (2.7.3)\n",
            "Requirement already satisfied: scipy in /usr/local/lib/python3.7/dist-packages (from pyLDAvis) (1.4.1)\n",
            "Requirement already satisfied: scikit-learn in /usr/local/lib/python3.7/dist-packages (from pyLDAvis) (0.22.2.post1)\n",
            "Requirement already satisfied: gensim in /usr/local/lib/python3.7/dist-packages (from pyLDAvis) (3.6.0)\n",
            "Requirement already satisfied: sklearn in /usr/local/lib/python3.7/dist-packages (from pyLDAvis) (0.0)\n",
            "Requirement already satisfied: pandas>=1.2.0 in /usr/local/lib/python3.7/dist-packages (from pyLDAvis) (1.2.4)\n",
            "Requirement already satisfied: MarkupSafe>=0.23 in /usr/local/lib/python3.7/dist-packages (from jinja2->pyLDAvis) (1.1.1)\n",
            "Requirement already satisfied: six>=1.5.0 in /usr/local/lib/python3.7/dist-packages (from gensim->pyLDAvis) (1.15.0)\n",
            "Requirement already satisfied: smart-open>=1.2.1 in /usr/local/lib/python3.7/dist-packages (from gensim->pyLDAvis) (5.0.0)\n",
            "Requirement already satisfied: pytz>=2017.3 in /usr/local/lib/python3.7/dist-packages (from pandas>=1.2.0->pyLDAvis) (2018.9)\n",
            "Requirement already satisfied: python-dateutil>=2.7.3 in /usr/local/lib/python3.7/dist-packages (from pandas>=1.2.0->pyLDAvis) (2.8.1)\n"
          ],
          "name": "stdout"
        }
      ]
    },
    {
      "cell_type": "code",
      "metadata": {
        "colab": {
          "base_uri": "https://localhost:8080/"
        },
        "id": "sYz9z2Aioac9",
        "outputId": "eebf4eff-4bf3-4156-c9a7-eba2508ea488"
      },
      "source": [
        "import re\n",
        "import pandas as pd \n",
        "from pprint import pprint\n",
        "\n",
        "from nltk.corpus import stopwords\n",
        "\n",
        "from nltk.stem.snowball import SnowballStemmer\n",
        "spanishStemmer=SnowballStemmer(\"spanish\")\n",
        "\n",
        "import pyLDAvis.gensim_models\n",
        "from gensim.models import LdaModel\n",
        "from gensim.corpora import Dictionary\n",
        "\n",
        "import warnings\n",
        "warnings.filterwarnings(\"ignore\", category=DeprecationWarning)"
      ],
      "execution_count": 2,
      "outputs": [
        {
          "output_type": "stream",
          "text": [
            "/usr/local/lib/python3.7/dist-packages/past/types/oldstr.py:5: DeprecationWarning: Using or importing the ABCs from 'collections' instead of from 'collections.abc' is deprecated since Python 3.3,and in 3.9 it will stop working\n",
            "  from collections import Iterable\n",
            "/usr/local/lib/python3.7/dist-packages/past/builtins/misc.py:4: DeprecationWarning: Using or importing the ABCs from 'collections' instead of from 'collections.abc' is deprecated since Python 3.3,and in 3.9 it will stop working\n",
            "  from collections import Mapping\n",
            "/usr/local/lib/python3.7/dist-packages/sklearn/decomposition/_lda.py:29: DeprecationWarning: `np.float` is a deprecated alias for the builtin `float`. To silence this warning, use `float` by itself. Doing this will not modify any behavior and is safe. If you specifically wanted the numpy scalar type, use `np.float64` here.\n",
            "Deprecated in NumPy 1.20; for more details and guidance: https://numpy.org/devdocs/release/1.20.0-notes.html#deprecations\n",
            "  EPS = np.finfo(np.float).eps\n",
            "/usr/local/lib/python3.7/dist-packages/scipy/sparse/sparsetools.py:21: DeprecationWarning: `scipy.sparse.sparsetools` is deprecated!\n",
            "scipy.sparse.sparsetools is a private module for scipy.sparse, and should not be used.\n",
            "  _deprecated()\n"
          ],
          "name": "stderr"
        }
      ]
    },
    {
      "cell_type": "code",
      "metadata": {
        "colab": {
          "base_uri": "https://localhost:8080/"
        },
        "id": "5Yp2Ioy7o8zT",
        "outputId": "26d73408-d46c-45fc-b505-66206f0b4887"
      },
      "source": [
        "import nltk\n",
        "nltk.download('all')"
      ],
      "execution_count": 3,
      "outputs": [
        {
          "output_type": "stream",
          "text": [
            "[nltk_data] Downloading collection 'all'\n",
            "[nltk_data]    | \n",
            "[nltk_data]    | Downloading package abc to /root/nltk_data...\n",
            "[nltk_data]    |   Unzipping corpora/abc.zip.\n",
            "[nltk_data]    | Downloading package alpino to /root/nltk_data...\n",
            "[nltk_data]    |   Unzipping corpora/alpino.zip.\n",
            "[nltk_data]    | Downloading package biocreative_ppi to\n",
            "[nltk_data]    |     /root/nltk_data...\n",
            "[nltk_data]    |   Unzipping corpora/biocreative_ppi.zip.\n",
            "[nltk_data]    | Downloading package brown to /root/nltk_data...\n",
            "[nltk_data]    |   Unzipping corpora/brown.zip.\n",
            "[nltk_data]    | Downloading package brown_tei to /root/nltk_data...\n",
            "[nltk_data]    |   Unzipping corpora/brown_tei.zip.\n",
            "[nltk_data]    | Downloading package cess_cat to /root/nltk_data...\n",
            "[nltk_data]    |   Unzipping corpora/cess_cat.zip.\n",
            "[nltk_data]    | Downloading package cess_esp to /root/nltk_data...\n",
            "[nltk_data]    |   Unzipping corpora/cess_esp.zip.\n",
            "[nltk_data]    | Downloading package chat80 to /root/nltk_data...\n",
            "[nltk_data]    |   Unzipping corpora/chat80.zip.\n",
            "[nltk_data]    | Downloading package city_database to\n",
            "[nltk_data]    |     /root/nltk_data...\n",
            "[nltk_data]    |   Unzipping corpora/city_database.zip.\n",
            "[nltk_data]    | Downloading package cmudict to /root/nltk_data...\n",
            "[nltk_data]    |   Unzipping corpora/cmudict.zip.\n",
            "[nltk_data]    | Downloading package comparative_sentences to\n",
            "[nltk_data]    |     /root/nltk_data...\n",
            "[nltk_data]    |   Unzipping corpora/comparative_sentences.zip.\n",
            "[nltk_data]    | Downloading package comtrans to /root/nltk_data...\n",
            "[nltk_data]    | Downloading package conll2000 to /root/nltk_data...\n",
            "[nltk_data]    |   Unzipping corpora/conll2000.zip.\n",
            "[nltk_data]    | Downloading package conll2002 to /root/nltk_data...\n",
            "[nltk_data]    |   Unzipping corpora/conll2002.zip.\n",
            "[nltk_data]    | Downloading package conll2007 to /root/nltk_data...\n",
            "[nltk_data]    | Downloading package crubadan to /root/nltk_data...\n",
            "[nltk_data]    |   Unzipping corpora/crubadan.zip.\n",
            "[nltk_data]    | Downloading package dependency_treebank to\n",
            "[nltk_data]    |     /root/nltk_data...\n",
            "[nltk_data]    |   Unzipping corpora/dependency_treebank.zip.\n",
            "[nltk_data]    | Downloading package dolch to /root/nltk_data...\n",
            "[nltk_data]    |   Unzipping corpora/dolch.zip.\n",
            "[nltk_data]    | Downloading package europarl_raw to\n",
            "[nltk_data]    |     /root/nltk_data...\n",
            "[nltk_data]    |   Unzipping corpora/europarl_raw.zip.\n",
            "[nltk_data]    | Downloading package floresta to /root/nltk_data...\n",
            "[nltk_data]    |   Unzipping corpora/floresta.zip.\n",
            "[nltk_data]    | Downloading package framenet_v15 to\n",
            "[nltk_data]    |     /root/nltk_data...\n",
            "[nltk_data]    |   Unzipping corpora/framenet_v15.zip.\n",
            "[nltk_data]    | Downloading package framenet_v17 to\n",
            "[nltk_data]    |     /root/nltk_data...\n",
            "[nltk_data]    |   Unzipping corpora/framenet_v17.zip.\n",
            "[nltk_data]    | Downloading package gazetteers to /root/nltk_data...\n",
            "[nltk_data]    |   Unzipping corpora/gazetteers.zip.\n",
            "[nltk_data]    | Downloading package genesis to /root/nltk_data...\n",
            "[nltk_data]    |   Unzipping corpora/genesis.zip.\n",
            "[nltk_data]    | Downloading package gutenberg to /root/nltk_data...\n",
            "[nltk_data]    |   Unzipping corpora/gutenberg.zip.\n",
            "[nltk_data]    | Downloading package ieer to /root/nltk_data...\n",
            "[nltk_data]    |   Unzipping corpora/ieer.zip.\n",
            "[nltk_data]    | Downloading package inaugural to /root/nltk_data...\n",
            "[nltk_data]    |   Unzipping corpora/inaugural.zip.\n",
            "[nltk_data]    | Downloading package indian to /root/nltk_data...\n",
            "[nltk_data]    |   Unzipping corpora/indian.zip.\n",
            "[nltk_data]    | Downloading package jeita to /root/nltk_data...\n",
            "[nltk_data]    | Downloading package kimmo to /root/nltk_data...\n",
            "[nltk_data]    |   Unzipping corpora/kimmo.zip.\n",
            "[nltk_data]    | Downloading package knbc to /root/nltk_data...\n",
            "[nltk_data]    | Downloading package lin_thesaurus to\n",
            "[nltk_data]    |     /root/nltk_data...\n",
            "[nltk_data]    |   Unzipping corpora/lin_thesaurus.zip.\n",
            "[nltk_data]    | Downloading package mac_morpho to /root/nltk_data...\n",
            "[nltk_data]    |   Unzipping corpora/mac_morpho.zip.\n",
            "[nltk_data]    | Downloading package machado to /root/nltk_data...\n",
            "[nltk_data]    | Downloading package masc_tagged to /root/nltk_data...\n",
            "[nltk_data]    | Downloading package moses_sample to\n",
            "[nltk_data]    |     /root/nltk_data...\n",
            "[nltk_data]    |   Unzipping models/moses_sample.zip.\n",
            "[nltk_data]    | Downloading package movie_reviews to\n",
            "[nltk_data]    |     /root/nltk_data...\n",
            "[nltk_data]    |   Unzipping corpora/movie_reviews.zip.\n",
            "[nltk_data]    | Downloading package names to /root/nltk_data...\n",
            "[nltk_data]    |   Unzipping corpora/names.zip.\n",
            "[nltk_data]    | Downloading package nombank.1.0 to /root/nltk_data...\n",
            "[nltk_data]    | Downloading package nps_chat to /root/nltk_data...\n",
            "[nltk_data]    |   Unzipping corpora/nps_chat.zip.\n",
            "[nltk_data]    | Downloading package omw to /root/nltk_data...\n",
            "[nltk_data]    |   Unzipping corpora/omw.zip.\n",
            "[nltk_data]    | Downloading package opinion_lexicon to\n",
            "[nltk_data]    |     /root/nltk_data...\n",
            "[nltk_data]    |   Unzipping corpora/opinion_lexicon.zip.\n",
            "[nltk_data]    | Downloading package paradigms to /root/nltk_data...\n",
            "[nltk_data]    |   Unzipping corpora/paradigms.zip.\n",
            "[nltk_data]    | Downloading package pil to /root/nltk_data...\n",
            "[nltk_data]    |   Unzipping corpora/pil.zip.\n",
            "[nltk_data]    | Downloading package pl196x to /root/nltk_data...\n",
            "[nltk_data]    |   Unzipping corpora/pl196x.zip.\n",
            "[nltk_data]    | Downloading package ppattach to /root/nltk_data...\n",
            "[nltk_data]    |   Unzipping corpora/ppattach.zip.\n",
            "[nltk_data]    | Downloading package problem_reports to\n",
            "[nltk_data]    |     /root/nltk_data...\n",
            "[nltk_data]    |   Unzipping corpora/problem_reports.zip.\n",
            "[nltk_data]    | Downloading package propbank to /root/nltk_data...\n",
            "[nltk_data]    | Downloading package ptb to /root/nltk_data...\n",
            "[nltk_data]    |   Unzipping corpora/ptb.zip.\n",
            "[nltk_data]    | Downloading package product_reviews_1 to\n",
            "[nltk_data]    |     /root/nltk_data...\n",
            "[nltk_data]    |   Unzipping corpora/product_reviews_1.zip.\n",
            "[nltk_data]    | Downloading package product_reviews_2 to\n",
            "[nltk_data]    |     /root/nltk_data...\n",
            "[nltk_data]    |   Unzipping corpora/product_reviews_2.zip.\n",
            "[nltk_data]    | Downloading package pros_cons to /root/nltk_data...\n",
            "[nltk_data]    |   Unzipping corpora/pros_cons.zip.\n",
            "[nltk_data]    | Downloading package qc to /root/nltk_data...\n",
            "[nltk_data]    |   Unzipping corpora/qc.zip.\n",
            "[nltk_data]    | Downloading package reuters to /root/nltk_data...\n",
            "[nltk_data]    | Downloading package rte to /root/nltk_data...\n",
            "[nltk_data]    |   Unzipping corpora/rte.zip.\n",
            "[nltk_data]    | Downloading package semcor to /root/nltk_data...\n",
            "[nltk_data]    | Downloading package senseval to /root/nltk_data...\n",
            "[nltk_data]    |   Unzipping corpora/senseval.zip.\n",
            "[nltk_data]    | Downloading package sentiwordnet to\n",
            "[nltk_data]    |     /root/nltk_data...\n",
            "[nltk_data]    |   Unzipping corpora/sentiwordnet.zip.\n",
            "[nltk_data]    | Downloading package sentence_polarity to\n",
            "[nltk_data]    |     /root/nltk_data...\n",
            "[nltk_data]    |   Unzipping corpora/sentence_polarity.zip.\n",
            "[nltk_data]    | Downloading package shakespeare to /root/nltk_data...\n",
            "[nltk_data]    |   Unzipping corpora/shakespeare.zip.\n",
            "[nltk_data]    | Downloading package sinica_treebank to\n",
            "[nltk_data]    |     /root/nltk_data...\n",
            "[nltk_data]    |   Unzipping corpora/sinica_treebank.zip.\n",
            "[nltk_data]    | Downloading package smultron to /root/nltk_data...\n",
            "[nltk_data]    |   Unzipping corpora/smultron.zip.\n",
            "[nltk_data]    | Downloading package state_union to /root/nltk_data...\n",
            "[nltk_data]    |   Unzipping corpora/state_union.zip.\n",
            "[nltk_data]    | Downloading package stopwords to /root/nltk_data...\n",
            "[nltk_data]    |   Unzipping corpora/stopwords.zip.\n",
            "[nltk_data]    | Downloading package subjectivity to\n",
            "[nltk_data]    |     /root/nltk_data...\n",
            "[nltk_data]    |   Unzipping corpora/subjectivity.zip.\n",
            "[nltk_data]    | Downloading package swadesh to /root/nltk_data...\n",
            "[nltk_data]    |   Unzipping corpora/swadesh.zip.\n",
            "[nltk_data]    | Downloading package switchboard to /root/nltk_data...\n",
            "[nltk_data]    |   Unzipping corpora/switchboard.zip.\n",
            "[nltk_data]    | Downloading package timit to /root/nltk_data...\n",
            "[nltk_data]    |   Unzipping corpora/timit.zip.\n",
            "[nltk_data]    | Downloading package toolbox to /root/nltk_data...\n",
            "[nltk_data]    |   Unzipping corpora/toolbox.zip.\n",
            "[nltk_data]    | Downloading package treebank to /root/nltk_data...\n",
            "[nltk_data]    |   Unzipping corpora/treebank.zip.\n",
            "[nltk_data]    | Downloading package twitter_samples to\n",
            "[nltk_data]    |     /root/nltk_data...\n",
            "[nltk_data]    |   Unzipping corpora/twitter_samples.zip.\n",
            "[nltk_data]    | Downloading package udhr to /root/nltk_data...\n",
            "[nltk_data]    |   Unzipping corpora/udhr.zip.\n",
            "[nltk_data]    | Downloading package udhr2 to /root/nltk_data...\n",
            "[nltk_data]    |   Unzipping corpora/udhr2.zip.\n",
            "[nltk_data]    | Downloading package unicode_samples to\n",
            "[nltk_data]    |     /root/nltk_data...\n",
            "[nltk_data]    |   Unzipping corpora/unicode_samples.zip.\n",
            "[nltk_data]    | Downloading package universal_treebanks_v20 to\n",
            "[nltk_data]    |     /root/nltk_data...\n",
            "[nltk_data]    | Downloading package verbnet to /root/nltk_data...\n",
            "[nltk_data]    |   Unzipping corpora/verbnet.zip.\n",
            "[nltk_data]    | Downloading package verbnet3 to /root/nltk_data...\n",
            "[nltk_data]    |   Unzipping corpora/verbnet3.zip.\n",
            "[nltk_data]    | Downloading package webtext to /root/nltk_data...\n",
            "[nltk_data]    |   Unzipping corpora/webtext.zip.\n",
            "[nltk_data]    | Downloading package wordnet to /root/nltk_data...\n",
            "[nltk_data]    |   Unzipping corpora/wordnet.zip.\n",
            "[nltk_data]    | Downloading package wordnet_ic to /root/nltk_data...\n",
            "[nltk_data]    |   Unzipping corpora/wordnet_ic.zip.\n",
            "[nltk_data]    | Downloading package words to /root/nltk_data...\n",
            "[nltk_data]    |   Unzipping corpora/words.zip.\n",
            "[nltk_data]    | Downloading package ycoe to /root/nltk_data...\n",
            "[nltk_data]    |   Unzipping corpora/ycoe.zip.\n",
            "[nltk_data]    | Downloading package rslp to /root/nltk_data...\n",
            "[nltk_data]    |   Unzipping stemmers/rslp.zip.\n",
            "[nltk_data]    | Downloading package maxent_treebank_pos_tagger to\n",
            "[nltk_data]    |     /root/nltk_data...\n",
            "[nltk_data]    |   Unzipping taggers/maxent_treebank_pos_tagger.zip.\n",
            "[nltk_data]    | Downloading package universal_tagset to\n",
            "[nltk_data]    |     /root/nltk_data...\n",
            "[nltk_data]    |   Unzipping taggers/universal_tagset.zip.\n",
            "[nltk_data]    | Downloading package maxent_ne_chunker to\n",
            "[nltk_data]    |     /root/nltk_data...\n",
            "[nltk_data]    |   Unzipping chunkers/maxent_ne_chunker.zip.\n",
            "[nltk_data]    | Downloading package punkt to /root/nltk_data...\n",
            "[nltk_data]    |   Unzipping tokenizers/punkt.zip.\n",
            "[nltk_data]    | Downloading package book_grammars to\n",
            "[nltk_data]    |     /root/nltk_data...\n",
            "[nltk_data]    |   Unzipping grammars/book_grammars.zip.\n",
            "[nltk_data]    | Downloading package sample_grammars to\n",
            "[nltk_data]    |     /root/nltk_data...\n",
            "[nltk_data]    |   Unzipping grammars/sample_grammars.zip.\n",
            "[nltk_data]    | Downloading package spanish_grammars to\n",
            "[nltk_data]    |     /root/nltk_data...\n",
            "[nltk_data]    |   Unzipping grammars/spanish_grammars.zip.\n",
            "[nltk_data]    | Downloading package basque_grammars to\n",
            "[nltk_data]    |     /root/nltk_data...\n",
            "[nltk_data]    |   Unzipping grammars/basque_grammars.zip.\n",
            "[nltk_data]    | Downloading package large_grammars to\n",
            "[nltk_data]    |     /root/nltk_data...\n",
            "[nltk_data]    |   Unzipping grammars/large_grammars.zip.\n",
            "[nltk_data]    | Downloading package tagsets to /root/nltk_data...\n",
            "[nltk_data]    |   Unzipping help/tagsets.zip.\n",
            "[nltk_data]    | Downloading package snowball_data to\n",
            "[nltk_data]    |     /root/nltk_data...\n",
            "[nltk_data]    | Downloading package bllip_wsj_no_aux to\n",
            "[nltk_data]    |     /root/nltk_data...\n",
            "[nltk_data]    |   Unzipping models/bllip_wsj_no_aux.zip.\n",
            "[nltk_data]    | Downloading package word2vec_sample to\n",
            "[nltk_data]    |     /root/nltk_data...\n",
            "[nltk_data]    |   Unzipping models/word2vec_sample.zip.\n",
            "[nltk_data]    | Downloading package panlex_swadesh to\n",
            "[nltk_data]    |     /root/nltk_data...\n",
            "[nltk_data]    | Downloading package mte_teip5 to /root/nltk_data...\n",
            "[nltk_data]    |   Unzipping corpora/mte_teip5.zip.\n",
            "[nltk_data]    | Downloading package averaged_perceptron_tagger to\n",
            "[nltk_data]    |     /root/nltk_data...\n",
            "[nltk_data]    |   Unzipping taggers/averaged_perceptron_tagger.zip.\n",
            "[nltk_data]    | Downloading package averaged_perceptron_tagger_ru to\n",
            "[nltk_data]    |     /root/nltk_data...\n",
            "[nltk_data]    |   Unzipping\n",
            "[nltk_data]    |       taggers/averaged_perceptron_tagger_ru.zip.\n",
            "[nltk_data]    | Downloading package perluniprops to\n",
            "[nltk_data]    |     /root/nltk_data...\n",
            "[nltk_data]    |   Unzipping misc/perluniprops.zip.\n",
            "[nltk_data]    | Downloading package nonbreaking_prefixes to\n",
            "[nltk_data]    |     /root/nltk_data...\n",
            "[nltk_data]    |   Unzipping corpora/nonbreaking_prefixes.zip.\n",
            "[nltk_data]    | Downloading package vader_lexicon to\n",
            "[nltk_data]    |     /root/nltk_data...\n",
            "[nltk_data]    | Downloading package porter_test to /root/nltk_data...\n",
            "[nltk_data]    |   Unzipping stemmers/porter_test.zip.\n",
            "[nltk_data]    | Downloading package wmt15_eval to /root/nltk_data...\n",
            "[nltk_data]    |   Unzipping models/wmt15_eval.zip.\n",
            "[nltk_data]    | Downloading package mwa_ppdb to /root/nltk_data...\n",
            "[nltk_data]    |   Unzipping misc/mwa_ppdb.zip.\n",
            "[nltk_data]    | \n",
            "[nltk_data]  Done downloading collection all\n"
          ],
          "name": "stdout"
        },
        {
          "output_type": "execute_result",
          "data": {
            "text/plain": [
              "True"
            ]
          },
          "metadata": {
            "tags": []
          },
          "execution_count": 3
        }
      ]
    },
    {
      "cell_type": "code",
      "metadata": {
        "colab": {
          "base_uri": "https://localhost:8080/",
          "height": 973
        },
        "id": "t8IuED9Vsom2",
        "outputId": "71d4f5e9-a358-4dd3-ec6b-6723ae8f636c"
      },
      "source": [
        "#Cargar los datos\n",
        "data = pd.read_csv('/content/reviews_vidjew_es.csv', sep = \",\")\n",
        "data"
      ],
      "execution_count": 3,
      "outputs": [
        {
          "output_type": "execute_result",
          "data": {
            "text/html": [
              "<div>\n",
              "<style scoped>\n",
              "    .dataframe tbody tr th:only-of-type {\n",
              "        vertical-align: middle;\n",
              "    }\n",
              "\n",
              "    .dataframe tbody tr th {\n",
              "        vertical-align: top;\n",
              "    }\n",
              "\n",
              "    .dataframe thead th {\n",
              "        text-align: right;\n",
              "    }\n",
              "</style>\n",
              "<table border=\"1\" class=\"dataframe\">\n",
              "  <thead>\n",
              "    <tr style=\"text-align: right;\">\n",
              "      <th></th>\n",
              "      <th>review_id</th>\n",
              "      <th>product_id</th>\n",
              "      <th>reviewer_id</th>\n",
              "      <th>stars</th>\n",
              "      <th>review_body</th>\n",
              "      <th>review_title</th>\n",
              "      <th>language</th>\n",
              "      <th>product_category</th>\n",
              "    </tr>\n",
              "  </thead>\n",
              "  <tbody>\n",
              "    <tr>\n",
              "      <th>0</th>\n",
              "      <td>es_0825565</td>\n",
              "      <td>product_es_0370490</td>\n",
              "      <td>reviewer_es_0174781</td>\n",
              "      <td>3</td>\n",
              "      <td>Buen. Buena calidad, y buena presentación.</td>\n",
              "      <td>Contenta</td>\n",
              "      <td>es</td>\n",
              "      <td>jewelry</td>\n",
              "    </tr>\n",
              "    <tr>\n",
              "      <th>1</th>\n",
              "      <td>es_0227934</td>\n",
              "      <td>product_es_0354224</td>\n",
              "      <td>reviewer_es_0411613</td>\n",
              "      <td>3</td>\n",
              "      <td>Un producto a perfecto, para salir de casa con...</td>\n",
              "      <td>Versatilidad</td>\n",
              "      <td>es</td>\n",
              "      <td>video_games</td>\n",
              "    </tr>\n",
              "    <tr>\n",
              "      <th>2</th>\n",
              "      <td>es_0468601</td>\n",
              "      <td>product_es_0665460</td>\n",
              "      <td>reviewer_es_0348315</td>\n",
              "      <td>1</td>\n",
              "      <td>No funciona con Nintendo Switch. No hay forma ...</td>\n",
              "      <td>Decepción absoluta</td>\n",
              "      <td>es</td>\n",
              "      <td>video_games</td>\n",
              "    </tr>\n",
              "    <tr>\n",
              "      <th>3</th>\n",
              "      <td>es_0814494</td>\n",
              "      <td>product_es_0692692</td>\n",
              "      <td>reviewer_es_0951508</td>\n",
              "      <td>5</td>\n",
              "      <td>Recomendado, los utilizo para pc y no me dan n...</td>\n",
              "      <td>Auriculares Pecham ps4</td>\n",
              "      <td>es</td>\n",
              "      <td>video_games</td>\n",
              "    </tr>\n",
              "    <tr>\n",
              "      <th>4</th>\n",
              "      <td>es_0206329</td>\n",
              "      <td>product_es_0728826</td>\n",
              "      <td>reviewer_es_0493255</td>\n",
              "      <td>4</td>\n",
              "      <td>El cable funciona bien podria ser un poco mas ...</td>\n",
              "      <td>Perfecto</td>\n",
              "      <td>es</td>\n",
              "      <td>video_games</td>\n",
              "    </tr>\n",
              "    <tr>\n",
              "      <th>...</th>\n",
              "      <td>...</td>\n",
              "      <td>...</td>\n",
              "      <td>...</td>\n",
              "      <td>...</td>\n",
              "      <td>...</td>\n",
              "      <td>...</td>\n",
              "      <td>...</td>\n",
              "      <td>...</td>\n",
              "    </tr>\n",
              "    <tr>\n",
              "      <th>995</th>\n",
              "      <td>es_0427672</td>\n",
              "      <td>product_es_0899883</td>\n",
              "      <td>reviewer_es_0474735</td>\n",
              "      <td>2</td>\n",
              "      <td>En la foto parece que la cadena sea más gruesa...</td>\n",
              "      <td>Cadena muy fina</td>\n",
              "      <td>es</td>\n",
              "      <td>jewelry</td>\n",
              "    </tr>\n",
              "    <tr>\n",
              "      <th>996</th>\n",
              "      <td>es_0059540</td>\n",
              "      <td>product_es_0702564</td>\n",
              "      <td>reviewer_es_0754753</td>\n",
              "      <td>3</td>\n",
              "      <td>Bien por su precio, la cadena demasiado fina.</td>\n",
              "      <td>E</td>\n",
              "      <td>es</td>\n",
              "      <td>jewelry</td>\n",
              "    </tr>\n",
              "    <tr>\n",
              "      <th>997</th>\n",
              "      <td>es_0303349</td>\n",
              "      <td>product_es_0678671</td>\n",
              "      <td>reviewer_es_0172313</td>\n",
              "      <td>5</td>\n",
              "      <td>Muy bien!! Ahora tengo organizados los pendien...</td>\n",
              "      <td>Bonito</td>\n",
              "      <td>es</td>\n",
              "      <td>jewelry</td>\n",
              "    </tr>\n",
              "    <tr>\n",
              "      <th>998</th>\n",
              "      <td>es_0659961</td>\n",
              "      <td>product_es_0294943</td>\n",
              "      <td>reviewer_es_0554554</td>\n",
              "      <td>4</td>\n",
              "      <td>Las tapas para los joystics no están nada mal,...</td>\n",
              "      <td>No está mal pero sólo he probado las fundas.</td>\n",
              "      <td>es</td>\n",
              "      <td>video_games</td>\n",
              "    </tr>\n",
              "    <tr>\n",
              "      <th>999</th>\n",
              "      <td>es_0441429</td>\n",
              "      <td>product_es_0478207</td>\n",
              "      <td>reviewer_es_0691110</td>\n",
              "      <td>2</td>\n",
              "      <td>Mi primer impulso fue ponerlo a la venta nada ...</td>\n",
              "      <td>Decepcionado</td>\n",
              "      <td>es</td>\n",
              "      <td>video_games</td>\n",
              "    </tr>\n",
              "  </tbody>\n",
              "</table>\n",
              "<p>1000 rows × 8 columns</p>\n",
              "</div>"
            ],
            "text/plain": [
              "      review_id          product_id  ... language  product_category\n",
              "0    es_0825565  product_es_0370490  ...       es           jewelry\n",
              "1    es_0227934  product_es_0354224  ...       es       video_games\n",
              "2    es_0468601  product_es_0665460  ...       es       video_games\n",
              "3    es_0814494  product_es_0692692  ...       es       video_games\n",
              "4    es_0206329  product_es_0728826  ...       es       video_games\n",
              "..          ...                 ...  ...      ...               ...\n",
              "995  es_0427672  product_es_0899883  ...       es           jewelry\n",
              "996  es_0059540  product_es_0702564  ...       es           jewelry\n",
              "997  es_0303349  product_es_0678671  ...       es           jewelry\n",
              "998  es_0659961  product_es_0294943  ...       es       video_games\n",
              "999  es_0441429  product_es_0478207  ...       es       video_games\n",
              "\n",
              "[1000 rows x 8 columns]"
            ]
          },
          "metadata": {
            "tags": []
          },
          "execution_count": 3
        }
      ]
    },
    {
      "cell_type": "code",
      "metadata": {
        "colab": {
          "base_uri": "https://localhost:8080/"
        },
        "id": "_zDRHcaWt7kM",
        "outputId": "0a531d8e-5d57-4f8e-efaa-da758b786d98"
      },
      "source": [
        "from nltk.corpus import stopwords\n",
        "import nltk\n",
        "nltk.download(\"stopwords\")\n",
        "chachedWords = stopwords.words('english')"
      ],
      "execution_count": 16,
      "outputs": [
        {
          "output_type": "stream",
          "text": [
            "[nltk_data] Downloading package stopwords to /root/nltk_data...\n",
            "[nltk_data]   Package stopwords is already up-to-date!\n"
          ],
          "name": "stdout"
        }
      ]
    },
    {
      "cell_type": "code",
      "metadata": {
        "id": "DtO2jppIufr9"
      },
      "source": [
        "stop = set(stopwords.words('english'))"
      ],
      "execution_count": 18,
      "outputs": []
    },
    {
      "cell_type": "markdown",
      "metadata": {
        "id": "XDfuj-mqoadB"
      },
      "source": [
        "###  `[12 pts]` Punto 1: Hacer pre-procesamiento del texto"
      ]
    },
    {
      "cell_type": "code",
      "metadata": {
        "colab": {
          "base_uri": "https://localhost:8080/",
          "height": 499
        },
        "id": "rozhV0_Es6qa",
        "outputId": "d91ac23e-f329-4ff7-d991-b981d859338a"
      },
      "source": [
        "def pre_procesado(texto):\n",
        "    texto = texto.lower()\n",
        "    texto = re.sub(r\"[\\W\\d]+\", \" \", texto)\n",
        "    texto = [palabra for palabra in texto.split() if palabra not in stop]\n",
        "    return texto \n",
        "\n",
        "data['pp'] = data['review_body'].apply(lambda texto: pre_procesado(texto))\n",
        "\n",
        "data.head()"
      ],
      "execution_count": 20,
      "outputs": [
        {
          "output_type": "execute_result",
          "data": {
            "text/html": [
              "<div>\n",
              "<style scoped>\n",
              "    .dataframe tbody tr th:only-of-type {\n",
              "        vertical-align: middle;\n",
              "    }\n",
              "\n",
              "    .dataframe tbody tr th {\n",
              "        vertical-align: top;\n",
              "    }\n",
              "\n",
              "    .dataframe thead th {\n",
              "        text-align: right;\n",
              "    }\n",
              "</style>\n",
              "<table border=\"1\" class=\"dataframe\">\n",
              "  <thead>\n",
              "    <tr style=\"text-align: right;\">\n",
              "      <th></th>\n",
              "      <th>review_id</th>\n",
              "      <th>product_id</th>\n",
              "      <th>reviewer_id</th>\n",
              "      <th>stars</th>\n",
              "      <th>review_body</th>\n",
              "      <th>review_title</th>\n",
              "      <th>language</th>\n",
              "      <th>product_category</th>\n",
              "      <th>Pre-Processed</th>\n",
              "      <th>pp</th>\n",
              "    </tr>\n",
              "  </thead>\n",
              "  <tbody>\n",
              "    <tr>\n",
              "      <th>0</th>\n",
              "      <td>es_0825565</td>\n",
              "      <td>product_es_0370490</td>\n",
              "      <td>reviewer_es_0174781</td>\n",
              "      <td>3</td>\n",
              "      <td>Buen. Buena calidad, y buena presentación.</td>\n",
              "      <td>Contenta</td>\n",
              "      <td>es</td>\n",
              "      <td>jewelry</td>\n",
              "      <td>[buen, buena, calidad, buena, presentación]</td>\n",
              "      <td>[buen, buena, calidad, buena, presentación]</td>\n",
              "    </tr>\n",
              "    <tr>\n",
              "      <th>1</th>\n",
              "      <td>es_0227934</td>\n",
              "      <td>product_es_0354224</td>\n",
              "      <td>reviewer_es_0411613</td>\n",
              "      <td>3</td>\n",
              "      <td>Un producto a perfecto, para salir de casa con...</td>\n",
              "      <td>Versatilidad</td>\n",
              "      <td>es</td>\n",
              "      <td>video_games</td>\n",
              "      <td>[un, producto, perfecto, para, salir, de, casa...</td>\n",
              "      <td>[un, producto, perfecto, para, salir, de, casa...</td>\n",
              "    </tr>\n",
              "    <tr>\n",
              "      <th>2</th>\n",
              "      <td>es_0468601</td>\n",
              "      <td>product_es_0665460</td>\n",
              "      <td>reviewer_es_0348315</td>\n",
              "      <td>1</td>\n",
              "      <td>No funciona con Nintendo Switch. No hay forma ...</td>\n",
              "      <td>Decepción absoluta</td>\n",
              "      <td>es</td>\n",
              "      <td>video_games</td>\n",
              "      <td>[funciona, con, nintendo, switch, hay, forma, ...</td>\n",
              "      <td>[funciona, con, nintendo, switch, hay, forma, ...</td>\n",
              "    </tr>\n",
              "    <tr>\n",
              "      <th>3</th>\n",
              "      <td>es_0814494</td>\n",
              "      <td>product_es_0692692</td>\n",
              "      <td>reviewer_es_0951508</td>\n",
              "      <td>5</td>\n",
              "      <td>Recomendado, los utilizo para pc y no me dan n...</td>\n",
              "      <td>Auriculares Pecham ps4</td>\n",
              "      <td>es</td>\n",
              "      <td>video_games</td>\n",
              "      <td>[recomendado, los, utilizo, para, pc, dan, nin...</td>\n",
              "      <td>[recomendado, los, utilizo, para, pc, dan, nin...</td>\n",
              "    </tr>\n",
              "    <tr>\n",
              "      <th>4</th>\n",
              "      <td>es_0206329</td>\n",
              "      <td>product_es_0728826</td>\n",
              "      <td>reviewer_es_0493255</td>\n",
              "      <td>4</td>\n",
              "      <td>El cable funciona bien podria ser un poco mas ...</td>\n",
              "      <td>Perfecto</td>\n",
              "      <td>es</td>\n",
              "      <td>video_games</td>\n",
              "      <td>[el, cable, funciona, bien, podria, ser, un, p...</td>\n",
              "      <td>[el, cable, funciona, bien, podria, ser, un, p...</td>\n",
              "    </tr>\n",
              "  </tbody>\n",
              "</table>\n",
              "</div>"
            ],
            "text/plain": [
              "    review_id  ...                                                 pp\n",
              "0  es_0825565  ...        [buen, buena, calidad, buena, presentación]\n",
              "1  es_0227934  ...  [un, producto, perfecto, para, salir, de, casa...\n",
              "2  es_0468601  ...  [funciona, con, nintendo, switch, hay, forma, ...\n",
              "3  es_0814494  ...  [recomendado, los, utilizo, para, pc, dan, nin...\n",
              "4  es_0206329  ...  [el, cable, funciona, bien, podria, ser, un, p...\n",
              "\n",
              "[5 rows x 10 columns]"
            ]
          },
          "metadata": {
            "tags": []
          },
          "execution_count": 20
        }
      ]
    },
    {
      "cell_type": "markdown",
      "metadata": {
        "id": "d5jQV_nJoadB"
      },
      "source": [
        "###  `[10 pts]` Punto 2: Modelo de LDA"
      ]
    },
    {
      "cell_type": "code",
      "metadata": {
        "id": "oaE8yz6woadB"
      },
      "source": [
        "# Crear una representación de los documentos en forma de diccionario\n",
        "dictionary = Dictionary(data['pp'].values)\n",
        "\n",
        "# Filtrar palabras muy frecuentes o infrecuentes\n",
        "dictionary.filter_extremes(no_below=5, no_above=0.5) \n",
        "\n",
        "# Corpus\n",
        "corpus = [dictionary.doc2bow(text) for text in data['Pre-Processed'].values]\n",
        "\n",
        "# Entrenar el modelo\n",
        "model = LdaModel(corpus = corpus, id2word = dictionary, num_topics = 5, passes=50)"
      ],
      "execution_count": 28,
      "outputs": []
    },
    {
      "cell_type": "markdown",
      "metadata": {
        "id": "Cr6_7M0yoadC"
      },
      "source": [
        "###  `[25 pts]` Punto 3: Visualización de LDA"
      ]
    },
    {
      "cell_type": "code",
      "metadata": {
        "colab": {
          "base_uri": "https://localhost:8080/",
          "height": 881
        },
        "id": "EAbwffezoadC",
        "outputId": "5767c4cb-1da7-4498-8e3d-288ef7d2b039"
      },
      "source": [
        "lda_display = pyLDAvis.gensim_models.prepare(model, corpus, dictionary, sort_topics=True)\n",
        "pyLDAvis.display(lda_display)"
      ],
      "execution_count": 29,
      "outputs": [
        {
          "output_type": "execute_result",
          "data": {
            "text/html": [
              "\n",
              "<link rel=\"stylesheet\" type=\"text/css\" href=\"https://cdn.jsdelivr.net/gh/bmabey/pyLDAvis@3.3.1/pyLDAvis/js/ldavis.v1.0.0.css\">\n",
              "\n",
              "\n",
              "<div id=\"ldavis_el1441401065269282088323635622\"></div>\n",
              "<script type=\"text/javascript\">\n",
              "\n",
              "var ldavis_el1441401065269282088323635622_data = {\"mdsDat\": {\"x\": [-0.03858160428787965, 0.007194465087583331, -0.05551998101690249, 0.1788464025180998, -0.0919392823009011], \"y\": [-0.06670851220667928, 0.01614502697073737, -0.1111225883681485, 0.022179537736665124, 0.1395065358674252], \"topics\": [1, 2, 3, 4, 5], \"cluster\": [1, 1, 1, 1, 1], \"Freq\": [33.87753561756897, 24.69280823043921, 15.459204115605688, 14.339695973848784, 11.630756062537351]}, \"tinfo\": {\"Term\": [\"son\", \"los\", \"la\", \"muy\", \"es\", \"el\", \"las\", \"se\", \"bonito\", \"de\", \"ha\", \"calidad\", \"buen\", \"por\", \"bien\", \"buena\", \"para\", \"bonitos\", \"le\", \"producto\", \"foto\", \"mando\", \"estaba\", \"precio\", \"pero\", \"pendientes\", \"un\", \"poco\", \"queda\", \"llegado\", \"llegado\", \"dentro\", \"mismo\", \"llega\", \"entregado\", \"recibido\", \"imagen\", \"ten\\u00eda\", \"todav\\u00eda\", \"versi\\u00f3n\", \"saga\", \"hoy\", \"toda\", \"esperando\", \"devoluci\\u00f3n\", \"fuera\", \"misma\", \"pronto\", \"pandora\", \"persona\", \"manera\", \"voy\", \"cajita\", \"disco\", \"consola\", \"fecha\", \"bolsa\", \"castellano\", \"pongo\", \"previsto\", \"lleg\\u00f3\", \"d\\u00eda\", \"otra\", \"espero\", \"amazon\", \"paquete\", \"era\", \"que\", \"lo\", \"estoy\", \"la\", \"cosa\", \"ha\", \"caja\", \"ya\", \"de\", \"gracias\", \"en\", \"el\", \"menos\", \"por\", \"una\", \"del\", \"todo\", \"es\", \"producto\", \"nada\", \"juego\", \"un\", \"para\", \"pero\", \"yo\", \"se\", \"con\", \"mi\", \"como\", \"al\", \"m\\u00e1s\", \"si\", \"pedir\", \"contento\", \"tacto\", \"horas\", \"cargar\", \"unas\", \"punto\", \"jugando\", \"usb\", \"condiciones\", \"entre\", \"divertido\", \"detalle\", \"mayor\", \"compras\", \"interesante\", \"ir\", \"nadie\", \"cuesta\", \"piel\", \"costado\", \"\\u00fanica\", \"ideal\", \"ningun\", \"modo\", \"bajo\", \"cuidado\", \"esperar\", \"acierto\", \"cumple\", \"tiempo\", \"bueno\", \"otro\", \"con\", \"jugar\", \"el\", \"para\", \"tiene\", \"bastante\", \"puede\", \"mas\", \"bien\", \"uso\", \"los\", \"un\", \"de\", \"es\", \"que\", \"precio\", \"gusta\", \"se\", \"lo\", \"por\", \"pero\", \"mucho\", \"en\", \"muy\", \"uno\", \"juego\", \"ni\", \"este\", \"todo\", \"una\", \"m\\u00e1s\", \"calidad\", \"la\", \"las\", \"al\", \"del\", \"bonita\", \"pone\", \"excelente\", \"bonito\", \"piedra\", \"anillo\", \"elegante\", \"m\\u00ed\", \"gr\\u00e1ficos\", \"medida\", \"enga\\u00f1o\", \"hijo\", \"dedo\", \"ingles\", \"negra\", \"fea\", \"perfecta\", \"puesta\", \"queda\", \"peque\\u00f1a\", \"rompio\", \"tal\", \"qu\\u00e9\", \"s\\u00f3lo\", \"encantado\", \"espa\\u00f1ol\", \"fino\", \"usado\", \"pensaba\", \"fina\", \"foto\", \"collar\", \"gustado\", \"cadena\", \"le\", \"fue\", \"es\", \"muy\", \"la\", \"pulsera\", \"como\", \"ha\", \"demasiado\", \"se\", \"en\", \"pero\", \"regalo\", \"mi\", \"para\", \"calidad\", \"peque\\u00f1o\", \"una\", \"que\", \"el\", \"un\", \"juego\", \"mucho\", \"de\", \"lo\", \"si\", \"m\\u00e1s\", \"bien\", \"los\", \"son\", \"bonitos\", \"pendientes\", \"grandes\", \"peque\\u00f1os\", \"van\", \"eran\", \"originales\", \"elegantes\", \"puestos\", \"c\\u00f3modos\", \"pesan\", \"preciosos\", \"pulseras\", \"quedan\", \"valen\", \"apenas\", \"todos\", \"pocas\", \"junto\", \"estos\", \"alguna\", \"bonitas\", \"tienen\", \"piedras\", \"pantalla\", \"sistema\", \"perlas\", \"ponen\", \"s\\u00e9\", \"dan\", \"vienen\", \"los\", \"las\", \"ellos\", \"mandos\", \"plata\", \"de\", \"pl\\u00e1stico\", \"muy\", \"han\", \"unos\", \"pero\", \"poco\", \"se\", \"que\", \"bien\", \"m\\u00e1s\", \"para\", \"con\", \"un\", \"en\", \"tama\\u00f1o\", \"una\", \"nada\", \"calidad\", \"la\", \"al\", \"lo\", \"mucho\", \"estaba\", \"cable\", \"rapido\", \"enseguida\", \"acabado\", \"preciosa\", \"presentaci\\u00f3n\", \"lado\", \"ajusta\", \"cerrar\", \"much\\u00edsimo\", \"rompi\\u00f3\", \"entra\", \"c\\u00f3modo\", \"sonido\", \"brillo\", \"funcionar\", \"f\\u00e1cilmente\", \"carga\", \"buen\", \"envio\", \"opinar\", \"lleva\", \"pienso\", \"buena\", \"adapta\", \"precioso\", \"entrega\", \"seguro\", \"conectar\", \"mando\", \"va\", \"original\", \"llego\", \"calidad\", \"perfecto\", \"se\", \"precio\", \"muy\", \"bien\", \"la\", \"por\", \"el\", \"un\", \"poco\", \"producto\", \"en\", \"es\", \"pero\", \"de\", \"si\", \"esta\", \"del\", \"al\", \"tama\\u00f1o\", \"le\", \"con\", \"que\", \"lo\"], \"Freq\": [149.0, 284.0, 786.0, 401.0, 530.0, 819.0, 160.0, 406.0, 64.0, 894.0, 180.0, 149.0, 63.0, 236.0, 192.0, 68.0, 348.0, 40.0, 87.0, 108.0, 53.0, 54.0, 28.0, 120.0, 337.0, 30.0, 375.0, 98.0, 36.0, 52.0, 51.623359735835656, 18.61904699071559, 17.63804648523973, 16.654511210117764, 14.748282573452279, 14.67849975484494, 12.79771556157363, 11.834801523129322, 11.833898055615999, 13.62298327311369, 10.85431973005609, 9.89521900918861, 9.889644153222953, 8.926244891699001, 8.925424775389544, 8.918791656817673, 8.916620804481292, 8.90204625111974, 8.896083663214677, 10.654268654500916, 8.863567019013985, 7.944400455284011, 7.938395447569838, 9.674242316220234, 19.273840652550565, 6.983161627195955, 6.9823809538668975, 7.85331842726043, 9.592593858376956, 6.962106517733891, 39.02726924799733, 43.76672884242876, 18.606484773561636, 11.972444128997685, 29.70987576173888, 12.66460071217237, 39.42542008788862, 479.9660954008186, 233.17906511427208, 24.392329427658026, 376.8165515255391, 14.715791976502796, 106.3480867870282, 34.94327161344614, 48.89046130130795, 381.11113895348416, 17.9629613852207, 227.40173121345606, 311.5712533834668, 19.662156050385775, 106.00132196431974, 90.12883556349395, 62.72827039506908, 40.03939696287373, 148.05250442148233, 51.26601526389374, 46.84405231229928, 52.73243085446458, 103.49565379567183, 91.34643590321265, 80.14447467439317, 27.289993842840406, 79.40680461287225, 65.3454327062014, 39.64978962137861, 42.08686570290297, 39.20792107506008, 38.3440840823458, 35.33217642336583, 20.540223702123313, 8.90862936073026, 8.88874076058157, 8.88839956517741, 7.946159435994792, 7.924801905552834, 7.892878708843423, 6.9753527351599045, 6.973794844538684, 6.973490535124163, 6.909574166813231, 6.006235195674069, 6.005952041459488, 6.001967269696437, 5.996371448091804, 5.0352478619781555, 5.032585561431865, 5.032534029534575, 5.029232733461892, 5.028366455146401, 5.028464094530739, 5.025794742251135, 8.326879805375961, 5.796306179818503, 7.232047219026355, 4.8275851647212855, 9.625024711969141, 7.752782465548665, 4.650925684196951, 20.148299213389322, 32.834567062353635, 19.1872369231114, 20.451287241575688, 144.12331677863187, 22.99964696587242, 317.9627852835639, 149.33632256420816, 44.36376915115519, 31.417270645288312, 28.610162212966856, 34.41281441032633, 76.62820466000873, 15.655243937523869, 97.75049361816238, 118.67457896563742, 223.6129542546438, 149.31976292462437, 213.0208776186086, 48.909082110400554, 15.028181028780207, 98.72834554301829, 98.07166209971254, 67.69476079218992, 84.31528829604127, 32.31811113307046, 106.56950846706488, 84.48449517933547, 18.375890525249652, 39.483488010706516, 26.050391699287122, 26.077800159352936, 28.51874571205704, 44.407954227214425, 35.952125341588996, 36.74559722282454, 60.06109240868273, 34.771973291440474, 31.53335519421018, 28.753852670487312, 25.949253968463243, 20.208021828411336, 12.577175436654276, 60.98482788104276, 9.671590634376003, 8.775211314259517, 8.69956990853986, 6.867776830873207, 6.862569386565573, 6.862515050378719, 5.911527862473817, 14.119825967202287, 6.621218911796831, 4.958756749634261, 4.957377289690501, 4.953286793623887, 4.952465977601221, 4.950023905603296, 30.35403597345993, 14.013321607349477, 4.522773713952802, 24.010343211234662, 8.126430451197665, 7.311333991400966, 10.627424610148294, 12.607683847168207, 5.91820917584987, 3.8640652899515295, 3.8563614374591153, 10.244023721289095, 35.48170117474548, 10.82418748918686, 21.6523686881075, 21.149318836593135, 46.30490721655729, 16.237653562099524, 175.4876917835306, 129.25040051789463, 200.0976375335101, 20.811176595371762, 48.05802625007549, 61.758749057643726, 16.421983642383527, 78.79933252810098, 90.86775824723989, 68.46372040945286, 24.601732835336495, 32.618607949789485, 59.8751416713953, 37.72483752536108, 15.761638680354443, 39.76482445737574, 76.65403663234429, 70.84845414620102, 46.633766120254634, 28.17284287585806, 23.18740264366323, 46.89079801854948, 33.525913597880006, 23.8645918236171, 23.261845936462752, 22.720523033333002, 21.686817830573027, 148.4199121327351, 40.18292658388212, 29.45350975907679, 24.57270322597323, 21.58364749548531, 11.852624254592133, 7.995336996864782, 7.992592014599821, 7.021891439739441, 7.0200763619553355, 7.019453275551836, 7.018559282016381, 7.01823167339169, 7.008303872030376, 20.83934086071775, 6.042984898847134, 6.042773843290843, 14.4109590658337, 5.063228465580388, 5.063028750322643, 8.69713956266159, 7.694810265137037, 6.846390869475804, 18.12766127249046, 5.242146560814482, 6.534212611007601, 5.051837135689925, 5.037852972540007, 5.021859371489219, 4.939716863988893, 8.34475175562865, 8.981863588364089, 157.11955412127605, 88.66259702952733, 11.309022003608925, 10.610985046946308, 19.109746247058855, 191.32601736757118, 11.964913370738198, 96.04616965095899, 21.22980246008908, 12.507222827687048, 66.55143412656433, 29.783703971836665, 64.1847591809993, 87.9851931160544, 37.46343983012181, 30.639170733028273, 47.60866999551056, 41.58921936623138, 42.66526753449389, 48.29513606755572, 14.820128377708063, 31.4183828067235, 20.914086028474212, 23.768620617531255, 38.76277091657575, 21.51729414865363, 29.89672642728877, 17.40629858174983, 27.486286736762683, 22.482450360122613, 10.908030375055779, 9.937063943831028, 9.86415768321543, 8.96791871277473, 7.989035886204951, 7.983945825913714, 7.978965119392411, 6.041785057943693, 6.036361826353401, 8.622119608286857, 5.06868776120198, 8.698672357230762, 11.668656362806901, 6.039390005982542, 5.817959352841137, 7.8372022646412915, 11.348023955371875, 44.579186467733145, 10.640841301183581, 3.962251426986635, 5.891725113648469, 3.9106050211433265, 44.14150566855128, 3.761870863558836, 4.9654015925013875, 15.44294347824371, 5.961812193195224, 5.821565472254375, 31.256616676524825, 13.021697712200375, 17.6587840284304, 16.323257678187858, 50.69488292117777, 24.320380633378768, 85.7828857330112, 35.46379959721044, 78.08273695702886, 46.40501833044263, 110.54346536827389, 50.378427418955134, 104.06013176028553, 63.71281354930356, 29.271888676110205, 29.109818213083404, 63.40998741040668, 52.3761020881318, 38.49533955528161, 52.03004135219437, 22.3071572889143, 18.78477833549855, 22.02630205979375, 20.3592886629528, 14.223254452295917, 16.550552043992845, 19.873563744848934, 20.644632506629943, 17.341823659269927], \"Total\": [149.0, 284.0, 786.0, 401.0, 530.0, 819.0, 160.0, 406.0, 64.0, 894.0, 180.0, 149.0, 63.0, 236.0, 192.0, 68.0, 348.0, 40.0, 87.0, 108.0, 53.0, 54.0, 28.0, 120.0, 337.0, 30.0, 375.0, 98.0, 36.0, 52.0, 52.40496524969512, 19.408295525642497, 18.437777413382804, 17.466772472743244, 15.526338320168772, 15.526281653794513, 13.585230575182212, 12.61485952078105, 12.614852704667095, 14.553275256490029, 11.644312098897041, 10.673897564934196, 10.673824146932839, 9.703399832993417, 9.703394643436058, 9.703406788888056, 9.703342464843484, 9.703392649696385, 9.702937655316456, 11.645321757363497, 9.702530966764465, 8.732945272754545, 8.73286357400772, 10.673642432547904, 21.329488027000252, 7.762430771118248, 7.762377912910081, 8.731215169227644, 10.675420419199574, 7.7621789880327094, 44.63560548488609, 50.440364373015385, 21.35906196659121, 13.584422036939234, 35.913713473559106, 14.561303004257242, 51.2798907621789, 878.2708352744557, 412.0151908984234, 31.084022451133762, 786.2815177525816, 17.477316005061635, 180.4871186677943, 48.54996671371073, 72.64855697555485, 894.970949946443, 22.298189915036403, 536.5441214057232, 819.0844809380001, 25.234954606326486, 236.0541838512641, 207.12651456944482, 130.08300898087896, 74.64395004026551, 530.9065866111717, 108.80294269866374, 99.02308206749962, 120.79041288815573, 375.1820799653613, 348.43476399177246, 337.9702570617332, 45.38726647510712, 406.90212759800204, 289.0442165771666, 102.34785405691916, 127.34776127181254, 125.15370913061903, 137.57584895013747, 116.21064082751175, 21.326273591833115, 9.693555884841771, 9.693542899052282, 9.69355565768175, 8.724106076472065, 8.724238163928401, 8.724288264511664, 7.754690562510021, 7.754751956083954, 7.754708768522458, 7.754755107313599, 6.785325017419034, 6.7853333112017, 6.785366551378324, 6.785354086204901, 5.815920607574949, 5.815958437440608, 5.815941824688713, 5.815946151348941, 5.815844424632402, 5.815968626359973, 5.815946072830603, 9.697042201336208, 6.786570311500765, 8.713031654679368, 5.817191134862581, 11.63910709390558, 9.675506629164467, 5.818296588275232, 25.229573241258603, 43.682660009886476, 26.21181713169009, 29.108197737825982, 289.0442165771666, 34.92541475458656, 819.0844809380001, 348.43476399177246, 82.31266334896276, 55.25209853187148, 52.415825636948014, 66.89009203740152, 192.10191886925165, 24.24344739086182, 284.7056168064908, 375.1820799653613, 894.970949946443, 530.9065866111717, 878.2708352744557, 120.35350328296562, 23.2994439875062, 406.90212759800204, 412.0151908984234, 236.0541838512641, 337.9702570617332, 77.29862623831313, 536.5441214057232, 401.334124871624, 33.02212219743795, 120.79041288815573, 60.11303656889433, 61.12777419399823, 74.64395004026551, 207.12651456944482, 137.57584895013747, 149.14207691766748, 786.2815177525816, 160.57942594522407, 125.15370913061903, 130.08300898087896, 26.735017713093605, 21.00952956143842, 13.375131278282826, 64.95641864770205, 10.512977524064, 9.557694460741047, 9.558913143081163, 7.64909026716289, 7.649177214913097, 7.6491820284902685, 6.694824440064394, 16.258876262184728, 7.653037915938563, 5.740500194126044, 5.740538408219171, 5.740598790184667, 5.740632106471059, 5.740707479130197, 36.36516345499315, 17.245160211146253, 5.747406476359844, 30.655322361195566, 10.539205179570411, 9.582533627728855, 14.392733814412736, 18.227047369760836, 8.635751328919465, 5.764764856687333, 5.758017305024857, 15.358594357328771, 53.74697330645768, 16.312356246502805, 33.620097157392784, 33.661294626240824, 87.6041159197431, 26.894591001773463, 530.9065866111717, 401.334124871624, 786.2815177525816, 38.46812574011045, 127.34776127181254, 180.4871186677943, 29.865670577389906, 406.90212759800204, 536.5441214057232, 337.9702570617332, 63.615134709754585, 102.34785405691916, 348.43476399177246, 149.14207691766748, 30.77669531327279, 207.12651456944482, 878.2708352744557, 819.0844809380001, 375.1820799653613, 120.79041288815573, 77.29862623831313, 894.970949946443, 412.0151908984234, 116.21064082751175, 137.57584895013747, 192.10191886925165, 284.7056168064908, 149.23765943971682, 40.962605839916556, 30.23260656477954, 25.355309362473704, 22.42757325304921, 12.673442842743274, 8.772583191313284, 8.772596372579175, 7.797152709576479, 7.797135728526902, 7.797144521204769, 7.797128863646545, 7.797084923071843, 7.796996999320813, 23.404062128696893, 6.821664619387313, 6.821684799059001, 16.550770224465207, 5.846188329807356, 5.846203719752061, 10.696392703507684, 9.741557073160784, 8.747635684138904, 23.381343893994256, 6.81752676878291, 8.748995312466349, 6.800420120418695, 6.816542912931154, 6.816493728576551, 6.814812560943838, 11.68588506748141, 12.656305390374749, 284.7056168064908, 160.57942594522407, 16.52267912555413, 15.574605274098992, 35.99720698083017, 894.970949946443, 19.460579857460683, 401.334124871624, 48.63031307215002, 21.404325082913132, 337.9702570617332, 98.15853253088567, 406.90212759800204, 878.2708352744557, 192.10191886925165, 137.57584895013747, 348.43476399177246, 289.0442165771666, 375.1820799653613, 536.5441214057232, 36.04242566917664, 207.12651456944482, 99.02308206749962, 149.14207691766748, 786.2815177525816, 125.15370913061903, 412.0151908984234, 77.29862623831313, 28.27590846946007, 23.399004016048544, 11.696657716395743, 10.721391534905349, 10.720219829319387, 9.746204743903203, 8.770955282935462, 8.770944075986904, 8.770879538310796, 6.820475474836387, 6.820396849848802, 9.744481367450426, 5.845221760862796, 10.721634875726746, 14.609420832485817, 7.789660100027932, 7.789865459717471, 10.708799190820772, 15.598395073048827, 63.28042153515095, 15.577263183415761, 5.821493094284764, 8.760681817706544, 5.838268768873146, 68.02860618457532, 5.845465219882456, 7.785633834000754, 24.315579722460342, 9.717132363755686, 9.727351846621778, 54.50406758491936, 23.3482587566576, 32.969037761450146, 35.004751384862956, 149.14207691766748, 61.216533949674236, 406.90212759800204, 120.35350328296562, 401.334124871624, 192.10191886925165, 786.2815177525816, 236.0541838512641, 819.0844809380001, 375.1820799653613, 98.15853253088567, 108.80294269866374, 536.5441214057232, 530.9065866111717, 337.9702570617332, 894.970949946443, 116.21064082751175, 71.79535986331419, 130.08300898087896, 125.15370913061903, 36.04242566917664, 87.6041159197431, 289.0442165771666, 878.2708352744557, 412.0151908984234], \"Category\": [\"Default\", \"Default\", \"Default\", \"Default\", \"Default\", \"Default\", \"Default\", \"Default\", \"Default\", \"Default\", \"Default\", \"Default\", \"Default\", \"Default\", \"Default\", \"Default\", \"Default\", \"Default\", \"Default\", \"Default\", \"Default\", \"Default\", \"Default\", \"Default\", \"Default\", \"Default\", \"Default\", \"Default\", \"Default\", \"Default\", \"Topic1\", \"Topic1\", \"Topic1\", \"Topic1\", \"Topic1\", \"Topic1\", \"Topic1\", \"Topic1\", \"Topic1\", \"Topic1\", \"Topic1\", \"Topic1\", \"Topic1\", \"Topic1\", \"Topic1\", \"Topic1\", \"Topic1\", \"Topic1\", \"Topic1\", \"Topic1\", \"Topic1\", \"Topic1\", \"Topic1\", \"Topic1\", \"Topic1\", \"Topic1\", \"Topic1\", \"Topic1\", \"Topic1\", \"Topic1\", \"Topic1\", \"Topic1\", \"Topic1\", \"Topic1\", \"Topic1\", \"Topic1\", \"Topic1\", \"Topic1\", \"Topic1\", \"Topic1\", \"Topic1\", \"Topic1\", \"Topic1\", \"Topic1\", \"Topic1\", \"Topic1\", \"Topic1\", \"Topic1\", \"Topic1\", \"Topic1\", \"Topic1\", \"Topic1\", \"Topic1\", \"Topic1\", \"Topic1\", \"Topic1\", \"Topic1\", \"Topic1\", \"Topic1\", \"Topic1\", \"Topic1\", \"Topic1\", \"Topic1\", \"Topic1\", \"Topic1\", \"Topic1\", \"Topic1\", \"Topic1\", \"Topic1\", \"Topic2\", \"Topic2\", \"Topic2\", \"Topic2\", \"Topic2\", \"Topic2\", \"Topic2\", \"Topic2\", \"Topic2\", \"Topic2\", \"Topic2\", \"Topic2\", \"Topic2\", \"Topic2\", \"Topic2\", \"Topic2\", \"Topic2\", \"Topic2\", \"Topic2\", \"Topic2\", \"Topic2\", \"Topic2\", \"Topic2\", \"Topic2\", \"Topic2\", \"Topic2\", \"Topic2\", \"Topic2\", \"Topic2\", \"Topic2\", \"Topic2\", \"Topic2\", \"Topic2\", \"Topic2\", \"Topic2\", \"Topic2\", \"Topic2\", \"Topic2\", \"Topic2\", \"Topic2\", \"Topic2\", \"Topic2\", \"Topic2\", \"Topic2\", \"Topic2\", \"Topic2\", \"Topic2\", \"Topic2\", \"Topic2\", \"Topic2\", \"Topic2\", \"Topic2\", \"Topic2\", \"Topic2\", \"Topic2\", \"Topic2\", \"Topic2\", \"Topic2\", \"Topic2\", \"Topic2\", \"Topic2\", \"Topic2\", \"Topic2\", \"Topic2\", \"Topic2\", \"Topic2\", \"Topic2\", \"Topic2\", \"Topic2\", \"Topic3\", \"Topic3\", \"Topic3\", \"Topic3\", \"Topic3\", \"Topic3\", \"Topic3\", \"Topic3\", \"Topic3\", \"Topic3\", \"Topic3\", \"Topic3\", \"Topic3\", \"Topic3\", \"Topic3\", \"Topic3\", \"Topic3\", \"Topic3\", \"Topic3\", \"Topic3\", \"Topic3\", \"Topic3\", \"Topic3\", \"Topic3\", \"Topic3\", \"Topic3\", \"Topic3\", \"Topic3\", \"Topic3\", \"Topic3\", \"Topic3\", \"Topic3\", \"Topic3\", \"Topic3\", \"Topic3\", \"Topic3\", \"Topic3\", \"Topic3\", \"Topic3\", \"Topic3\", \"Topic3\", \"Topic3\", \"Topic3\", \"Topic3\", \"Topic3\", \"Topic3\", \"Topic3\", \"Topic3\", \"Topic3\", \"Topic3\", \"Topic3\", \"Topic3\", \"Topic3\", \"Topic3\", \"Topic3\", \"Topic3\", \"Topic3\", \"Topic3\", \"Topic3\", \"Topic3\", \"Topic3\", \"Topic3\", \"Topic3\", \"Topic4\", \"Topic4\", \"Topic4\", \"Topic4\", \"Topic4\", \"Topic4\", \"Topic4\", \"Topic4\", \"Topic4\", \"Topic4\", \"Topic4\", \"Topic4\", \"Topic4\", \"Topic4\", \"Topic4\", \"Topic4\", \"Topic4\", \"Topic4\", \"Topic4\", \"Topic4\", \"Topic4\", \"Topic4\", \"Topic4\", \"Topic4\", \"Topic4\", \"Topic4\", \"Topic4\", \"Topic4\", \"Topic4\", \"Topic4\", \"Topic4\", \"Topic4\", \"Topic4\", \"Topic4\", \"Topic4\", \"Topic4\", \"Topic4\", \"Topic4\", \"Topic4\", \"Topic4\", \"Topic4\", \"Topic4\", \"Topic4\", \"Topic4\", \"Topic4\", \"Topic4\", \"Topic4\", \"Topic4\", \"Topic4\", \"Topic4\", \"Topic4\", \"Topic4\", \"Topic4\", \"Topic4\", \"Topic4\", \"Topic4\", \"Topic4\", \"Topic4\", \"Topic4\", \"Topic4\", \"Topic5\", \"Topic5\", \"Topic5\", \"Topic5\", \"Topic5\", \"Topic5\", \"Topic5\", \"Topic5\", \"Topic5\", \"Topic5\", \"Topic5\", \"Topic5\", \"Topic5\", \"Topic5\", \"Topic5\", \"Topic5\", \"Topic5\", \"Topic5\", \"Topic5\", \"Topic5\", \"Topic5\", \"Topic5\", \"Topic5\", \"Topic5\", \"Topic5\", \"Topic5\", \"Topic5\", \"Topic5\", \"Topic5\", \"Topic5\", \"Topic5\", \"Topic5\", \"Topic5\", \"Topic5\", \"Topic5\", \"Topic5\", \"Topic5\", \"Topic5\", \"Topic5\", \"Topic5\", \"Topic5\", \"Topic5\", \"Topic5\", \"Topic5\", \"Topic5\", \"Topic5\", \"Topic5\", \"Topic5\", \"Topic5\", \"Topic5\", \"Topic5\", \"Topic5\", \"Topic5\", \"Topic5\", \"Topic5\", \"Topic5\", \"Topic5\", \"Topic5\", \"Topic5\"], \"logprob\": [30.0, 29.0, 28.0, 27.0, 26.0, 25.0, 24.0, 23.0, 22.0, 21.0, 20.0, 19.0, 18.0, 17.0, 16.0, 15.0, 14.0, 13.0, 12.0, 11.0, 10.0, 9.0, 8.0, 7.0, 6.0, 5.0, 4.0, 3.0, 2.0, 1.0, -4.8189, -5.8387, -5.8929, -5.9502, -6.0718, -6.0765, -6.2136, -6.2919, -6.2919, -6.1512, -6.3783, -6.4709, -6.4714, -6.5739, -6.574, -6.5748, -6.575, -6.5766, -6.5773, -6.3969, -6.581, -6.6904, -6.6912, -6.4934, -5.8042, -6.8194, -6.8195, -6.702, -6.5019, -6.8224, -5.0986, -4.984, -5.8394, -6.2803, -5.3714, -6.2241, -5.0885, -2.5892, -3.3111, -5.5686, -2.8312, -6.074, -4.0962, -5.2092, -4.8733, -2.8198, -5.8746, -3.3362, -3.0213, -5.7842, -4.0995, -4.2617, -4.6241, -5.073, -3.7653, -4.8259, -4.9161, -4.7977, -4.1234, -4.2483, -4.3791, -5.4564, -4.3883, -4.5832, -5.0828, -5.0232, -5.094, -5.1163, -5.1981, -5.4243, -6.2597, -6.2619, -6.2619, -6.374, -6.3767, -6.3807, -6.5043, -6.5045, -6.5046, -6.5138, -6.6539, -6.6539, -6.6546, -6.6555, -6.8302, -6.8307, -6.8307, -6.8314, -6.8316, -6.8316, -6.8321, -6.3272, -6.6894, -6.4681, -6.8723, -6.1823, -6.3986, -6.9096, -5.4436, -4.9552, -5.4924, -5.4286, -3.476, -5.3112, -2.6847, -3.4405, -4.6542, -4.9993, -5.0929, -4.9082, -4.1077, -5.6959, -3.8643, -3.6703, -3.0368, -3.4406, -3.0853, -4.5567, -5.7367, -3.8543, -3.861, -4.2317, -4.0121, -4.971, -3.7779, -4.0101, -5.5356, -4.7708, -5.1866, -5.1856, -5.0961, -4.6533, -4.8645, -4.8427, -4.3513, -4.8979, -4.9956, -5.0879, -4.7222, -4.9723, -5.4465, -3.8677, -5.7092, -5.8064, -5.8151, -6.0515, -6.0523, -6.0523, -6.2015, -5.3308, -6.0881, -6.3772, -6.3775, -6.3783, -6.3785, -6.379, -4.5654, -5.3384, -6.4692, -4.7999, -5.8832, -5.9889, -5.6149, -5.4441, -6.2003, -6.6266, -6.6286, -5.6517, -4.4093, -5.5966, -4.9032, -4.9268, -4.1431, -5.191, -2.8108, -3.1166, -2.6796, -4.9429, -4.106, -3.8551, -5.1797, -3.6115, -3.469, -3.7521, -4.7755, -4.4935, -3.8861, -4.348, -5.2208, -4.2954, -3.6391, -3.7178, -4.136, -4.64, -4.8348, -4.1305, -4.466, -4.806, -4.8315, -4.8551, -4.9017, -2.9031, -4.2097, -4.5204, -4.7016, -4.8313, -5.4306, -5.8243, -5.8247, -5.9542, -5.9544, -5.9545, -5.9546, -5.9547, -5.9561, -4.8663, -6.1043, -6.1043, -5.2352, -6.2812, -6.2812, -5.7402, -5.8626, -5.9795, -5.0058, -6.2465, -6.0261, -6.2834, -6.2862, -6.2894, -6.3059, -5.7816, -5.708, -2.8462, -3.4184, -5.4776, -5.5413, -4.953, -2.6492, -5.4212, -3.3384, -4.8478, -5.3769, -3.7052, -4.5092, -3.7414, -3.426, -4.2798, -4.4809, -4.0402, -4.1753, -4.1498, -4.0259, -5.2072, -4.4558, -4.8628, -4.7348, -4.2457, -4.8343, -4.5054, -5.0464, -4.3801, -4.5811, -5.3043, -5.3975, -5.4049, -5.5002, -5.6157, -5.6164, -5.617, -5.8951, -5.896, -5.5395, -6.0707, -5.5306, -5.2369, -5.8955, -5.9329, -5.6349, -5.2648, -3.8965, -5.3291, -6.317, -5.9203, -6.3301, -3.9064, -6.3689, -6.0913, -4.9567, -5.9084, -5.9322, -4.2516, -5.1272, -4.8226, -4.9012, -3.768, -4.5025, -3.242, -4.1253, -3.336, -3.8564, -2.9884, -3.7742, -3.0488, -3.5394, -4.3172, -4.3227, -3.5442, -3.7354, -4.0433, -3.742, -4.5889, -4.7608, -4.6016, -4.6803, -5.0389, -4.8874, -4.7044, -4.6664, -4.8407], \"loglift\": [30.0, 29.0, 28.0, 27.0, 26.0, 25.0, 24.0, 23.0, 22.0, 21.0, 20.0, 19.0, 18.0, 17.0, 16.0, 15.0, 14.0, 13.0, 12.0, 11.0, 10.0, 9.0, 8.0, 7.0, 6.0, 5.0, 4.0, 3.0, 2.0, 1.0, 1.0674, 1.0409, 1.0381, 1.0348, 1.031, 1.0263, 1.0227, 1.0186, 1.0185, 1.0164, 1.0122, 1.0067, 1.0061, 0.9989, 0.9988, 0.9981, 0.9979, 0.9962, 0.9956, 0.9935, 0.992, 0.9878, 0.987, 0.9841, 0.9811, 0.9766, 0.9765, 0.9764, 0.9755, 0.9736, 0.9481, 0.9405, 0.9445, 0.9561, 0.8928, 0.9429, 0.8195, 0.4782, 0.5132, 0.84, 0.3469, 0.9104, 0.5535, 0.7536, 0.6864, 0.2287, 0.8662, 0.224, 0.1159, 0.8329, 0.2818, 0.2503, 0.3531, 0.4596, -0.1946, 0.3299, 0.3339, 0.2536, -0.2055, -0.2564, -0.3567, 0.5737, -0.5516, -0.4045, 0.1341, -0.0248, -0.0782, -0.1952, -0.1082, 1.3611, 1.3142, 1.312, 1.3119, 1.3053, 1.3026, 1.2985, 1.2927, 1.2925, 1.2925, 1.2833, 1.2767, 1.2766, 1.276, 1.275, 1.2545, 1.254, 1.254, 1.2533, 1.2532, 1.2532, 1.2526, 1.2463, 1.2409, 1.2124, 1.2122, 1.2087, 1.1771, 1.1747, 1.1738, 1.1132, 1.0867, 1.0457, 0.7027, 0.9809, 0.4524, 0.5514, 0.7806, 0.8341, 0.7932, 0.734, 0.4796, 0.9613, 0.3296, 0.2476, 0.0118, 0.1302, -0.0179, 0.4982, 0.9602, -0.0175, -0.0367, 0.1496, 0.0103, 0.5266, -0.2177, -0.1596, 0.8125, 0.2805, 0.5625, 0.5468, 0.4365, -0.1413, 0.0567, -0.0022, -1.1733, -0.1313, 0.0202, -0.1107, 1.8371, 1.8281, 1.8055, 1.8039, 1.7835, 1.7815, 1.7728, 1.7592, 1.7584, 1.7584, 1.7425, 1.7259, 1.7221, 1.7206, 1.7203, 1.7195, 1.7193, 1.7188, 1.6863, 1.6594, 1.6273, 1.6226, 1.607, 1.5964, 1.5637, 1.4984, 1.4891, 1.4669, 1.4661, 1.462, 1.4517, 1.4568, 1.427, 1.4022, 1.2294, 1.3624, 0.7599, 0.7339, 0.4985, 1.2526, 0.8925, 0.7945, 1.2689, 0.2253, 0.0912, 0.2703, 0.9169, 0.7235, 0.1058, 0.4924, 1.1978, 0.2166, -0.5717, -0.5807, -0.2181, 0.4113, 0.6629, -1.082, -0.6418, 0.284, 0.0896, -0.2678, -0.7078, 1.9366, 1.9229, 1.916, 1.9108, 1.9038, 1.8752, 1.8494, 1.849, 1.8374, 1.8372, 1.8371, 1.8369, 1.8369, 1.8355, 1.8261, 1.8209, 1.8209, 1.8037, 1.7984, 1.7983, 1.7352, 1.7063, 1.6971, 1.6876, 1.6794, 1.6503, 1.6449, 1.6398, 1.6366, 1.6203, 1.6054, 1.5992, 1.3477, 1.3482, 1.563, 1.5584, 1.3089, 0.3993, 1.4557, 0.5122, 1.1133, 1.4049, 0.3172, 0.7495, 0.0953, -0.3586, 0.3075, 0.4402, -0.0483, 0.0034, -0.2319, -0.4657, 1.0534, 0.0562, 0.3872, 0.1056, -1.0677, 0.1815, -0.6812, 0.4513, 2.1232, 2.1116, 2.0817, 2.0755, 2.0683, 2.0683, 2.0581, 2.0575, 2.0569, 2.0303, 2.0294, 2.0291, 2.009, 1.9424, 1.9268, 1.897, 1.8596, 1.8393, 1.8334, 1.8012, 1.7704, 1.7668, 1.7548, 1.7508, 1.719, 1.7108, 1.7017, 1.6976, 1.663, 1.6381, 1.5955, 1.5676, 1.5272, 1.3886, 1.0724, 1.2284, 0.5948, 0.9296, 0.5145, 0.7309, 0.1896, 0.607, 0.0883, 0.3785, 0.9416, 0.8331, 0.016, -0.1646, -0.0209, -0.6935, 0.501, 0.8107, 0.3756, 0.3355, 1.2217, 0.4851, -0.5257, -1.599, -1.0164]}, \"token.table\": {\"Topic\": [5, 2, 4, 4, 5, 5, 1, 2, 3, 4, 5, 1, 4, 1, 2, 4, 3, 4, 2, 1, 2, 3, 4, 1, 2, 3, 4, 5, 1, 3, 3, 4, 2, 3, 4, 2, 5, 1, 2, 5, 2, 3, 4, 5, 2, 4, 5, 2, 3, 5, 1, 2, 5, 1, 2, 3, 4, 5, 4, 5, 2, 1, 5, 1, 2, 3, 1, 2, 3, 4, 5, 2, 1, 2, 3, 4, 5, 2, 2, 5, 1, 3, 2, 1, 4, 2, 2, 2, 4, 2, 5, 4, 5, 4, 1, 4, 1, 2, 3, 4, 5, 3, 1, 2, 3, 4, 5, 2, 3, 4, 1, 2, 1, 1, 2, 1, 3, 5, 1, 2, 3, 4, 5, 3, 4, 2, 3, 4, 1, 2, 3, 4, 5, 3, 4, 3, 5, 5, 2, 1, 2, 3, 5, 1, 1, 5, 1, 2, 3, 5, 4, 1, 2, 3, 4, 5, 1, 3, 1, 2, 3, 1, 2, 1, 2, 3, 4, 5, 5, 1, 2, 3, 5, 3, 4, 1, 4, 3, 3, 1, 2, 3, 5, 1, 3, 1, 3, 1, 2, 3, 1, 1, 5, 2, 5, 1, 2, 3, 4, 3, 1, 2, 4, 5, 1, 3, 4, 1, 2, 3, 4, 5, 1, 4, 2, 3, 2, 1, 2, 5, 1, 3, 2, 2, 1, 2, 3, 2, 1, 2, 4, 4, 1, 2, 3, 4, 5, 5, 1, 2, 3, 4, 5, 1, 2, 3, 5, 1, 1, 1, 2, 5, 1, 2, 1, 5, 1, 2, 3, 4, 5, 1, 2, 3, 4, 5, 1, 2, 4, 5, 2, 4, 1, 1, 2, 3, 4, 5, 2, 3, 1, 2, 5, 1, 2, 3, 4, 1, 1, 2, 3, 1, 2, 3, 4, 5, 1, 2, 3, 4, 5, 1, 2, 3, 4, 5, 3, 1, 2, 3, 4, 5, 2, 3, 1, 2, 3, 4, 2, 3, 5, 1, 2, 3, 5, 4, 1, 4, 5, 1, 2, 4, 5, 1, 1, 3, 4, 1, 5, 1, 2, 3, 4, 2, 4, 2, 3, 3, 4, 1, 2, 3, 4, 3, 1, 3, 4, 5, 1, 4, 1, 2, 3, 4, 5, 1, 4, 3, 1, 4, 2, 2, 5, 1, 2, 4, 2, 4, 4, 1, 2, 3, 4, 5, 3, 1, 4, 1, 1, 2, 4, 5, 1, 2, 3, 4, 5, 5, 1, 5, 4, 5, 1, 1, 2, 5, 1, 1, 2, 5, 3, 4, 1, 3, 4, 2, 1, 2, 3, 4, 5, 1, 3, 4, 5, 1, 3, 5, 1, 1, 2, 3, 2, 3, 1, 5, 1, 1, 2, 3, 4, 5, 3, 4, 5, 1, 2, 3, 4, 5, 3, 4, 4, 2, 5, 2, 4, 1, 3, 2, 1, 3, 5, 1, 2, 4, 5, 1, 2, 5, 1, 2, 3, 4, 1, 4, 1, 1, 1, 2, 3, 4, 3, 4, 1, 2, 3, 4, 5, 1, 2, 3, 4, 5, 2, 1, 2, 4, 1, 2, 4, 3, 4, 2, 1, 2, 1, 2, 5, 4, 4, 1, 2, 4, 1, 1, 2, 3, 4, 5, 1, 3, 4, 2], \"Freq\": [0.9328166921214047, 0.8593580482087788, 0.17187160964175574, 0.3421455649410599, 0.6842911298821198, 0.9121092092368126, 0.31161681320444856, 0.2556855903215988, 0.10387227106814952, 0.1757838433460992, 0.15980349395099927, 0.10265299402239564, 0.8212239521791651, 0.8353355055329218, 0.08353355055329217, 0.08353355055329217, 0.9416496872721953, 0.8795481141004425, 0.8595213538772806, 0.07239544028708068, 0.5610646622248753, 0.10859316043062102, 0.2533840410047824, 0.046850130664887205, 0.4008288956884794, 0.11972811169915618, 0.19260609273342516, 0.23945622339831235, 0.9017855196611693, 0.9725073040541272, 0.114316603492437, 0.800216224447059, 0.04618481225497998, 0.9390911825179263, 0.9765003758872554, 0.12837530613131812, 0.7702518367879088, 0.04740802806336495, 0.23704014031682474, 0.7111204209504742, 0.14699698495759245, 0.11759758796607396, 0.08819819097455547, 0.6467867338134068, 0.7248639002989609, 0.22890438956809292, 0.9402109587617911, 0.029707710624428722, 0.6238619231130031, 0.32678481686871597, 0.7209067764430792, 0.12358401881881358, 0.14418135528861584, 0.9160798095839953, 0.248085589021437, 0.2547906049409353, 0.16092038206795914, 0.34195581189441315, 0.25643663859439414, 0.7052007561345838, 0.9169993956830834, 0.9162527603483254, 0.8797040649345537, 0.06130322222544578, 0.2452128889017831, 0.6743354444799036, 0.32980556219087914, 0.16490278109543957, 0.37692064250386187, 0.07852513385497122, 0.047115080312982734, 0.8842574644996669, 0.2248790886381456, 0.498193673290661, 0.062274209161332625, 0.14530648804310947, 0.06919356573481403, 0.9026773550044928, 0.3084087064293735, 0.616817412858747, 0.8907855629703144, 0.046883450682648126, 0.9284518608979895, 0.8582553520034669, 0.1144340469337956, 0.8597020240684033, 0.8597053462815003, 0.8591724364522909, 0.0859172436452291, 0.7927205033850299, 0.15854410067700597, 0.09326935785361902, 0.8394242206825712, 0.89776455739189, 0.25671996452781926, 0.6845865720741846, 0.42571214185533046, 0.2502874534792494, 0.05251567104252108, 0.2134147482791814, 0.058102444557682896, 0.9146694524303197, 0.4843061403143007, 0.22293457252563048, 0.04612439431564768, 0.08456138957868742, 0.16912277915737484, 0.03348325956414518, 0.5357321530263229, 0.4017991147697422, 0.9789628344692581, 0.8842601718761234, 0.9275104569809624, 0.9368872962716347, 0.8842612527177436, 0.8723172512119906, 0.05947617621899936, 0.07930156829199914, 0.3809130892611999, 0.38823834097776144, 0.08668214531264484, 0.01831312929140384, 0.12697102975373328, 0.9415296347278027, 0.8977636145823572, 0.18156861712336783, 0.12104574474891189, 0.6657515961190154, 0.4230779742871275, 0.1994244195978971, 0.16960394563933306, 0.08946142187569217, 0.11741811621184596, 0.7642745389332993, 0.20843851061817253, 0.8962146884828975, 0.9327147476559611, 0.8553995390693209, 0.9026719610266247, 0.1645035835318865, 0.12337768764891487, 0.04112589588297162, 0.6168884382445743, 0.9661002929786054, 0.2567845168244044, 0.7061574212671121, 0.7605320413194826, 0.019500821572294425, 0.17550739415064984, 0.019500821572294425, 0.9119320758247917, 0.2787684382382565, 0.28065200876689333, 0.3296248425114519, 0.01130142317182121, 0.09794566748911715, 0.2743176060591764, 0.7132257757538586, 0.9275099609312477, 0.8268300882442622, 0.10335376103053277, 0.8833647811713433, 0.07361373176427861, 0.27856953482894303, 0.3482119185361788, 0.08357086044868291, 0.0278569534828943, 0.2646410580874959, 0.9548764818347697, 0.37626104178120445, 0.42533856897005723, 0.03271835145923517, 0.16359175729617587, 0.09348946207557138, 0.8414051586801424, 0.7721008449832921, 0.19302521124582303, 0.9719530769098375, 0.870989278775073, 0.9017793789601279, 0.19533037530667435, 0.6511012510222479, 0.06511012510222479, 0.23159536719201096, 0.6947861015760328, 0.3349025794879003, 0.6511994601153617, 0.18591098855789603, 0.18591098855789603, 0.5949151633852673, 0.927509296045017, 0.12837192184783494, 0.7702315310870097, 0.18676230307076203, 0.7470492122830481, 0.8072404113780558, 0.1345400685630093, 0.0448466895210031, 0.9859867865386975, 0.9151311053890294, 0.08583895826322957, 0.6437921869742218, 0.12875843739484436, 0.08583895826322957, 0.2379529113954647, 0.6543705063375279, 0.11897645569773235, 0.5872995301958598, 0.005540561605621319, 0.3435148195485218, 0.049865054450591875, 0.011081123211242638, 0.5552092572371813, 0.43182942229558546, 0.12300973128454433, 0.8610681189918103, 0.928451882655449, 0.936864902362556, 0.8249938315105648, 0.1031242289388206, 0.9569215574263918, 0.8710042384662299, 0.8597091221444371, 0.859703530171773, 0.438776544700403, 0.32287330647765505, 0.23180647644549593, 0.9026794742579974, 0.2290595560915824, 0.6585462237632994, 0.0858973335343434, 0.8552558616982392, 0.47947203576344294, 0.07630854680585299, 0.25436182268617663, 0.04960055542380444, 0.14117081159082803, 0.9121024978260214, 0.16814109180593337, 0.21796067456324697, 0.0062274478446641985, 0.5542428581751137, 0.05604703060197779, 0.21688478675370118, 0.06848993265906353, 0.525089483719487, 0.19405480920068, 0.973276547028271, 0.9922723877829979, 0.25710795374744055, 0.25710795374744055, 0.45708080666211653, 0.8737419281386394, 0.11201819591521017, 0.2282927335584457, 0.6848782006753371, 0.5655131294842061, 0.23785530768005236, 0.0825212291951202, 0.07281284928981195, 0.0412606145975601, 0.007024799940492089, 0.34421519708411236, 0.07727279934541298, 0.551446795328629, 0.021074399821476266, 0.12843078159430468, 0.22016705416166518, 0.0733890180538884, 0.568764889917635, 0.25682833879919337, 0.7062779316977817, 0.9275930198861565, 0.22424845807676222, 0.5082965049739944, 0.0896993832307049, 0.14949897205117482, 0.01494989720511748, 0.8842558400594009, 0.915130529503375, 0.7925514553921937, 0.11888271830882906, 0.07925514553921938, 0.3908240223361657, 0.19541201116808285, 0.3224298184273367, 0.09770600558404142, 0.9275154445602855, 0.9762564975393916, 0.8033943037772189, 0.11477061482531699, 0.05174736207688768, 0.41397889661510145, 0.29754733194210414, 0.21992628882677265, 0.8797142060924228, 0.03239196269232862, 0.2093019127812003, 0.32142793748541476, 0.2392021860356575, 0.19435177615397173, 0.2762112702918707, 0.26167383501335123, 0.16718050570297438, 0.22533024681705244, 0.06541845875333781, 0.9151415077490459, 0.47463681213196535, 0.22217042270006887, 0.040394622309103435, 0.21207176712279302, 0.05049327788637929, 0.859705985843078, 0.8709984402928329, 0.3160712065880167, 0.432518493225707, 0.08317663331263596, 0.16635326662527192, 0.88409899619432, 0.1717772371802257, 0.6871089487209028, 0.12132595524753524, 0.15165744405941906, 0.18198893287130288, 0.5459667986139086, 0.9119307056011254, 0.8895521736731165, 0.046818535456479814, 0.046818535456479814, 0.1374183326644788, 0.687091663322394, 0.0687091663322394, 0.0343545831661197, 0.9275541407883519, 0.11429883824204487, 0.11429883824204487, 0.8000918676943141, 0.8927772463906033, 0.06867517279927718, 0.2611679700311097, 0.42762667620478395, 0.1721986615589734, 0.13775892924717872, 0.984700862509892, 0.9592292327775831, 0.17367089173687073, 0.6946835669474829, 0.8118219737356355, 0.17396185151477905, 0.09747635246290452, 0.3899054098516181, 0.5198738798021574, 0.9809353759220882, 0.8709842239086893, 0.37571548919950565, 0.0816772802607621, 0.14701910446937178, 0.39205094525165807, 0.14670192981591515, 0.7335096490795758, 0.23670722002435649, 0.2485425810255743, 0.201201137020703, 0.19824229677039854, 0.11243592951156933, 0.9445853218305925, 0.8977663602094496, 0.9512053057385689, 0.14668075886096207, 0.7334037943048104, 0.8597203836510863, 0.17128365266969572, 0.6851346106787829, 0.30557926357614085, 0.1388996652618822, 0.5278187279951524, 0.3597015120449446, 0.6166311635056193, 0.8552581131379255, 0.13243881774525856, 0.183376824570358, 0.08150081092015911, 0.3056280409505967, 0.2954404395855768, 0.9519489687531442, 0.1467029883424868, 0.7335149417124339, 0.9367312580978224, 0.4490494439479614, 0.2880694546081262, 0.050835786107316386, 0.2118157754471516, 0.1911037017836051, 0.40713397336507173, 0.06647085279429743, 0.041544282996435894, 0.29080998097505123, 0.9234363771836421, 0.2568833883846131, 0.6422084709615328, 0.8977714195835881, 0.9121013324015672, 0.9018086301272111, 0.46873732212599756, 0.2573459807750575, 0.26653690865988094, 0.9275106475549669, 0.26709490559147797, 0.5532680187252044, 0.17170386788023584, 0.8709727883152085, 0.8977655697834693, 0.4419243119576844, 0.5459065030065513, 0.8977815434082842, 0.9169802461184259, 0.5465284519552583, 0.2425220005551459, 0.08767227250115603, 0.10019688285846402, 0.02391061977304255, 0.13749422592828936, 0.8249653555697362, 0.8972801338726087, 0.08545525084501035, 0.18976763104269712, 0.7590705241707885, 0.9404395910962492, 0.9661038189613227, 0.2986710644674087, 0.2986710644674087, 0.3929882427202746, 0.17399152193483908, 0.8699576096741954, 0.1026221881177082, 0.9235996930593737, 0.9446672252147835, 0.1941498818557367, 0.24330175067997387, 0.1941498818557367, 0.15728598023755885, 0.2113530359442197, 0.20582203937654267, 0.20582203937654267, 0.617466118129628, 0.3011772394573534, 0.18070634367441205, 0.2065215356278995, 0.12047089578294137, 0.18931140765890786, 0.1470497384415172, 0.7352486922075859, 0.9917067887263619, 0.13689796624605116, 0.821387797476307, 0.14673917896598787, 0.7336958948299394, 0.20871306876634646, 0.7304957406822126, 0.9284531046826967, 0.16310381411383074, 0.7828983077463875, 0.032620762822766144, 0.027745080455425526, 0.16647048273255316, 0.4161762068313829, 0.38843112637595734, 0.9512591067884535, 0.7554485004468885, 0.22892378801420862, 0.2308271804965162, 0.5345471548340375, 0.12148798973500853, 0.09719039178800681, 0.21384570633188893, 0.7698445427948002, 0.936871346421192, 0.9512596207770528, 0.5358773213156944, 0.38851105795387847, 0.05358773213156944, 0.02679386606578472, 0.060420148817111156, 0.8458820834395562, 0.27453336793033795, 0.3171793279971865, 0.1252725076963678, 0.11461101767965563, 0.17058384026739443, 0.43451703992163226, 0.21243055285057577, 0.19311868440961433, 0.1496669804174511, 0.004827967110240358, 0.9169855120504543, 0.1514136484053084, 0.5450891342591102, 0.3028272968106168, 0.0934390592673525, 0.32703670743573376, 0.6073538852377913, 0.6938704525579837, 0.17346761313949594, 0.9026723278374086, 0.3299860729796816, 0.6599721459593632, 0.3426379707102935, 0.08565949267757338, 0.5567867024042269, 0.8795507159569051, 0.9468618866160049, 0.9619827669896304, 0.2370359996434292, 0.7111079989302875, 0.9160712394429835, 0.6744800177722423, 0.15141388154070748, 0.12388408489694247, 0.027529796643764995, 0.027529796643764995, 0.5948805049717698, 0.30845655813351025, 0.0660978338857522, 0.8597053578879756], \"Term\": [\"acabado\", \"acierto\", \"acierto\", \"adapta\", \"adapta\", \"ajusta\", \"al\", \"al\", \"al\", \"al\", \"al\", \"alguna\", \"alguna\", \"amazon\", \"amazon\", \"amazon\", \"anillo\", \"apenas\", \"bajo\", \"bastante\", \"bastante\", \"bastante\", \"bastante\", \"bien\", \"bien\", \"bien\", \"bien\", \"bien\", \"bolsa\", \"bonita\", \"bonitas\", \"bonitas\", \"bonito\", \"bonito\", \"bonitos\", \"brillo\", \"brillo\", \"buen\", \"buen\", \"buen\", \"buena\", \"buena\", \"buena\", \"buena\", \"bueno\", \"bueno\", \"cable\", \"cadena\", \"cadena\", \"cadena\", \"caja\", \"caja\", \"caja\", \"cajita\", \"calidad\", \"calidad\", \"calidad\", \"calidad\", \"carga\", \"carga\", \"cargar\", \"castellano\", \"cerrar\", \"collar\", \"collar\", \"collar\", \"como\", \"como\", \"como\", \"como\", \"como\", \"compras\", \"con\", \"con\", \"con\", \"con\", \"con\", \"condiciones\", \"conectar\", \"conectar\", \"consola\", \"consola\", \"contento\", \"cosa\", \"cosa\", \"costado\", \"cuesta\", \"cuidado\", \"cuidado\", \"cumple\", \"cumple\", \"c\\u00f3modo\", \"c\\u00f3modo\", \"c\\u00f3modos\", \"dan\", \"dan\", \"de\", \"de\", \"de\", \"de\", \"de\", \"dedo\", \"del\", \"del\", \"del\", \"del\", \"del\", \"demasiado\", \"demasiado\", \"demasiado\", \"dentro\", \"detalle\", \"devoluci\\u00f3n\", \"disco\", \"divertido\", \"d\\u00eda\", \"d\\u00eda\", \"d\\u00eda\", \"el\", \"el\", \"el\", \"el\", \"el\", \"elegante\", \"elegantes\", \"ellos\", \"ellos\", \"ellos\", \"en\", \"en\", \"en\", \"en\", \"en\", \"encantado\", \"encantado\", \"enga\\u00f1o\", \"enseguida\", \"entra\", \"entre\", \"entrega\", \"entrega\", \"entrega\", \"entrega\", \"entregado\", \"envio\", \"envio\", \"era\", \"era\", \"era\", \"era\", \"eran\", \"es\", \"es\", \"es\", \"es\", \"es\", \"espa\\u00f1ol\", \"espa\\u00f1ol\", \"esperando\", \"esperar\", \"esperar\", \"espero\", \"espero\", \"esta\", \"esta\", \"esta\", \"esta\", \"esta\", \"estaba\", \"este\", \"este\", \"este\", \"este\", \"estos\", \"estos\", \"estoy\", \"estoy\", \"excelente\", \"fea\", \"fecha\", \"fina\", \"fina\", \"fina\", \"fino\", \"fino\", \"foto\", \"foto\", \"fue\", \"fue\", \"fue\", \"fuera\", \"funcionar\", \"funcionar\", \"f\\u00e1cilmente\", \"f\\u00e1cilmente\", \"gracias\", \"gracias\", \"gracias\", \"grandes\", \"gr\\u00e1ficos\", \"gusta\", \"gusta\", \"gusta\", \"gusta\", \"gustado\", \"gustado\", \"gustado\", \"ha\", \"ha\", \"ha\", \"ha\", \"ha\", \"han\", \"han\", \"hijo\", \"hijo\", \"horas\", \"hoy\", \"ideal\", \"ideal\", \"imagen\", \"ingles\", \"interesante\", \"ir\", \"juego\", \"juego\", \"juego\", \"jugando\", \"jugar\", \"jugar\", \"jugar\", \"junto\", \"la\", \"la\", \"la\", \"la\", \"la\", \"lado\", \"las\", \"las\", \"las\", \"las\", \"las\", \"le\", \"le\", \"le\", \"le\", \"llega\", \"llegado\", \"llego\", \"llego\", \"llego\", \"lleg\\u00f3\", \"lleg\\u00f3\", \"lleva\", \"lleva\", \"lo\", \"lo\", \"lo\", \"lo\", \"lo\", \"los\", \"los\", \"los\", \"los\", \"los\", \"mando\", \"mando\", \"mando\", \"mando\", \"mandos\", \"mandos\", \"manera\", \"mas\", \"mas\", \"mas\", \"mas\", \"mas\", \"mayor\", \"medida\", \"menos\", \"menos\", \"menos\", \"mi\", \"mi\", \"mi\", \"mi\", \"misma\", \"mismo\", \"modo\", \"modo\", \"mucho\", \"mucho\", \"mucho\", \"mucho\", \"much\\u00edsimo\", \"muy\", \"muy\", \"muy\", \"muy\", \"muy\", \"m\\u00e1s\", \"m\\u00e1s\", \"m\\u00e1s\", \"m\\u00e1s\", \"m\\u00e1s\", \"m\\u00ed\", \"nada\", \"nada\", \"nada\", \"nada\", \"nada\", \"nadie\", \"negra\", \"ni\", \"ni\", \"ni\", \"ni\", \"ningun\", \"opinar\", \"opinar\", \"original\", \"original\", \"original\", \"original\", \"originales\", \"otra\", \"otra\", \"otra\", \"otro\", \"otro\", \"otro\", \"otro\", \"pandora\", \"pantalla\", \"pantalla\", \"pantalla\", \"paquete\", \"paquete\", \"para\", \"para\", \"para\", \"para\", \"pedir\", \"pendientes\", \"pensaba\", \"pensaba\", \"peque\\u00f1a\", \"peque\\u00f1a\", \"peque\\u00f1o\", \"peque\\u00f1o\", \"peque\\u00f1o\", \"peque\\u00f1os\", \"perfecta\", \"perfecto\", \"perfecto\", \"perfecto\", \"perfecto\", \"perlas\", \"perlas\", \"pero\", \"pero\", \"pero\", \"pero\", \"pero\", \"persona\", \"pesan\", \"piedra\", \"piedras\", \"piedras\", \"piel\", \"pienso\", \"pienso\", \"plata\", \"plata\", \"plata\", \"pl\\u00e1stico\", \"pl\\u00e1stico\", \"pocas\", \"poco\", \"poco\", \"poco\", \"poco\", \"poco\", \"pone\", \"ponen\", \"ponen\", \"pongo\", \"por\", \"por\", \"por\", \"por\", \"precio\", \"precio\", \"precio\", \"precio\", \"precio\", \"preciosa\", \"precioso\", \"precioso\", \"preciosos\", \"presentaci\\u00f3n\", \"previsto\", \"producto\", \"producto\", \"producto\", \"pronto\", \"puede\", \"puede\", \"puede\", \"puesta\", \"puestos\", \"pulsera\", \"pulsera\", \"pulseras\", \"punto\", \"que\", \"que\", \"que\", \"que\", \"que\", \"queda\", \"queda\", \"quedan\", \"quedan\", \"qu\\u00e9\", \"qu\\u00e9\", \"rapido\", \"recibido\", \"regalo\", \"regalo\", \"regalo\", \"rompio\", \"rompio\", \"rompi\\u00f3\", \"rompi\\u00f3\", \"saga\", \"se\", \"se\", \"se\", \"se\", \"se\", \"seguro\", \"seguro\", \"seguro\", \"si\", \"si\", \"si\", \"si\", \"si\", \"sistema\", \"sistema\", \"son\", \"sonido\", \"sonido\", \"s\\u00e9\", \"s\\u00e9\", \"s\\u00f3lo\", \"s\\u00f3lo\", \"tacto\", \"tal\", \"tal\", \"tal\", \"tama\\u00f1o\", \"tama\\u00f1o\", \"tama\\u00f1o\", \"tama\\u00f1o\", \"ten\\u00eda\", \"tiempo\", \"tiempo\", \"tiene\", \"tiene\", \"tiene\", \"tiene\", \"tienen\", \"tienen\", \"toda\", \"todav\\u00eda\", \"todo\", \"todo\", \"todo\", \"todo\", \"todos\", \"todos\", \"un\", \"un\", \"un\", \"un\", \"un\", \"una\", \"una\", \"una\", \"una\", \"una\", \"unas\", \"uno\", \"uno\", \"uno\", \"unos\", \"unos\", \"unos\", \"usado\", \"usado\", \"usb\", \"uso\", \"uso\", \"va\", \"va\", \"va\", \"valen\", \"van\", \"versi\\u00f3n\", \"vienen\", \"vienen\", \"voy\", \"ya\", \"ya\", \"ya\", \"ya\", \"ya\", \"yo\", \"yo\", \"yo\", \"\\u00fanica\"]}, \"R\": 30, \"lambda.step\": 0.01, \"plot.opts\": {\"xlab\": \"PC1\", \"ylab\": \"PC2\"}, \"topic.order\": [3, 1, 2, 4, 5]};\n",
              "\n",
              "function LDAvis_load_lib(url, callback){\n",
              "  var s = document.createElement('script');\n",
              "  s.src = url;\n",
              "  s.async = true;\n",
              "  s.onreadystatechange = s.onload = callback;\n",
              "  s.onerror = function(){console.warn(\"failed to load library \" + url);};\n",
              "  document.getElementsByTagName(\"head\")[0].appendChild(s);\n",
              "}\n",
              "\n",
              "if(typeof(LDAvis) !== \"undefined\"){\n",
              "   // already loaded: just create the visualization\n",
              "   !function(LDAvis){\n",
              "       new LDAvis(\"#\" + \"ldavis_el1441401065269282088323635622\", ldavis_el1441401065269282088323635622_data);\n",
              "   }(LDAvis);\n",
              "}else if(typeof define === \"function\" && define.amd){\n",
              "   // require.js is available: use it to load d3/LDAvis\n",
              "   require.config({paths: {d3: \"https://d3js.org/d3.v5\"}});\n",
              "   require([\"d3\"], function(d3){\n",
              "      window.d3 = d3;\n",
              "      LDAvis_load_lib(\"https://cdn.jsdelivr.net/gh/bmabey/pyLDAvis@3.3.1/pyLDAvis/js/ldavis.v3.0.0.js\", function(){\n",
              "        new LDAvis(\"#\" + \"ldavis_el1441401065269282088323635622\", ldavis_el1441401065269282088323635622_data);\n",
              "      });\n",
              "    });\n",
              "}else{\n",
              "    // require.js not available: dynamically load d3 & LDAvis\n",
              "    LDAvis_load_lib(\"https://d3js.org/d3.v5.js\", function(){\n",
              "         LDAvis_load_lib(\"https://cdn.jsdelivr.net/gh/bmabey/pyLDAvis@3.3.1/pyLDAvis/js/ldavis.v3.0.0.js\", function(){\n",
              "                 new LDAvis(\"#\" + \"ldavis_el1441401065269282088323635622\", ldavis_el1441401065269282088323635622_data);\n",
              "            })\n",
              "         });\n",
              "}\n",
              "</script>"
            ],
            "text/plain": [
              "<IPython.core.display.HTML object>"
            ]
          },
          "metadata": {
            "tags": []
          },
          "execution_count": 29
        }
      ]
    },
    {
      "cell_type": "markdown",
      "metadata": {
        "id": "6fJsU9Q0oadC"
      },
      "source": [
        "###  `[3 pts]` Preguntas\n",
        "\n",
        "- ¿Qué conclusiones puede sacar de los resultados de los últimos tres talleres, usando diferentes modelos pero los mismos datos?"
      ]
    },
    {
      "cell_type": "markdown",
      "metadata": {
        "id": "3BsCcFbFw3_Q"
      },
      "source": [
        "RTA: Respecto de los ejercicios adelantados, es importante tener en cuenta que los modelos de LDA y K-means nos sirven en igual medida para clasificar documentos bajo un algoritmo no supervisado, mientras que los modelos de clasificación requieren de un algoritmo supervisado y un conjunto de datos en lo posible balanceado para obtener los mejores resultados. En términos prácticos, el modelo que más me llamó la atención fue el de LDA dado que nos permite caracterizar documentos por uno o más temas de acuerdo a su contenido, y de igual manera nos permite identificar con qué tanto porcentaje cuenta de cada \"categoría\", lo cual me parece más útil en ejercicios de la vida real; mientras que el modelo de k-means establece una participación de N documentos en K clusters desarticulados, lo cual podría ocasionalmente traducirse en posibles sesgos. "
      ]
    }
  ]
}